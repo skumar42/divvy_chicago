{
 "cells": [
  {
   "cell_type": "markdown",
   "metadata": {},
   "source": [
    "# Continuous Features Evaluation Report"
   ]
  },
  {
   "cell_type": "code",
   "execution_count": 374,
   "metadata": {
    "collapsed": false
   },
   "outputs": [],
   "source": [
    "# Imports\n",
    "from sklearn.cross_validation import KFold\n",
    "from sklearn.preprocessing import PolynomialFeatures\n",
    "from sklearn.linear_model import LinearRegression, Lasso, Ridge\n",
    "import sklearn.metrics \n",
    "from sklearn.model_selection import cross_val_score\n",
    "from sklearn.dummy import DummyRegressor\n",
    "from sklearn.metrics import mean_squared_error\n",
    "\n",
    "import numpy as np\n",
    "import pylab as pl\n",
    "import csv\n"
   ]
  },
  {
   "cell_type": "code",
   "execution_count": 375,
   "metadata": {
    "collapsed": false
   },
   "outputs": [],
   "source": [
    "# taken and modified from sklearn to load csv in scikit learn standard format\n",
    "class Bunch(dict):\n",
    "\n",
    "    def __init__(self, **kwargs):\n",
    "        super(Bunch, self).__init__(kwargs)\n",
    "\n",
    "    def __setattr__(self, key, value):\n",
    "        self[key] = value\n",
    "\n",
    "    def __dir__(self):\n",
    "        return self.keys()\n",
    "\n",
    "    def __getattr__(self, key):\n",
    "        try:\n",
    "            return self[key]\n",
    "        except KeyError:\n",
    "            raise AttributeError(key)\n",
    "\n",
    "    def __setstate__(self, state):\n",
    "        pass\n",
    "\n",
    "cont_infile_name = '../data/preprocessed_divvy_weather/evaluation_continuous.csv'\n",
    "\n",
    "def load_divydata(return_X_y=False):  \n",
    "    with open(cont_infile_name) as f:\n",
    "        data_file = csv.reader(f)\n",
    "        temp = next(data_file)\n",
    "        n_samples = int(temp[0])\n",
    "        n_features = int(temp[1])\n",
    "        data = np.empty((n_samples, n_features))\n",
    "        target = np.empty((n_samples,))\n",
    "        temp = next(data_file)\n",
    "        feature_names = np.array(temp)\n",
    "\n",
    "        for i, d in enumerate(data_file):\n",
    "            data[i] = np.asarray(d[:-1], dtype=np.float64)\n",
    "            target[i] = np.asarray(d[-1], dtype=np.float64)\n",
    "\n",
    "    if return_X_y:\n",
    "        return data, target\n",
    "\n",
    "    return Bunch(data=data,\n",
    "                 target=target,\n",
    "                 feature_names=feature_names[:-1])"
   ]
  },
  {
   "cell_type": "code",
   "execution_count": 376,
   "metadata": {
    "collapsed": false
   },
   "outputs": [
    {
     "name": "stdout",
     "output_type": "stream",
     "text": [
      "['TemperatureF' 'Dew_PointF' 'Humidity' 'Sea_Level_PressureIn' 'VisibilityMPH' 'Wind_SpeedMPH' 'WindDirDegrees']\n"
     ]
    }
   ],
   "source": [
    "# Load data set\n",
    "divy = load_divydata()\n",
    "print (divy.feature_names)"
   ]
  },
  {
   "cell_type": "code",
   "execution_count": 377,
   "metadata": {
    "collapsed": false
   },
   "outputs": [
    {
     "name": "stdout",
     "output_type": "stream",
     "text": [
      "Divy Data Shape:\n",
      "Instances:  2057\n",
      "Features:  7\n"
     ]
    }
   ],
   "source": [
    "#Printing data shape features and instances.\n",
    "data_shape = divy.data.shape\n",
    "print(\"Divy Data Shape:\")\n",
    "print(\"Instances: \",data_shape[0])\n",
    "print(\"Features: \",data_shape[1])"
   ]
  },
  {
   "cell_type": "markdown",
   "metadata": {
    "collapsed": false
   },
   "source": [
    "# Performance Indicators"
   ]
  },
  {
   "cell_type": "markdown",
   "metadata": {},
   "source": [
    "### We are using root square error, RMSE and R2 score as our performance measure for regression. \n",
    "Our trained model must work better then predicting mean. If we are only predicting near to mean then its almost similar in classification that one is predicting the mode class.\n",
    "R^2 is coefficient of deteremination. \n",
    "R^2 = 1-RSE. bigger the R^2 means better the model is.\n",
    "If RSE is closer to 1, it means our performance is only comparable to predicting the mean, it is a bad trained model.\n",
    "If RSE is closer to zero, this indicates a better fit on data.\n",
    "\n",
    "y:  True Function\n",
    "\n",
    "g:  Estimated Function\n",
    "\n",
    "u: Mean of True Function\n",
    "\n",
    "$$RSE=\\sum_{i=0}^\\infty \\frac{(y - g)^2}{(y - u)^2}$$\n",
    "\n",
    "One problem with the R2 as a measure of model validity is that, it can always be increased by adding more variables into the model, except in the unlikely event that the additional variables are exactly uncorrelated with the dependent variable in the data sample being used.\n",
    "\n",
    "Outliers may also give a distorted value of R^2."
   ]
  },
  {
   "cell_type": "code",
   "execution_count": 378,
   "metadata": {
    "collapsed": true
   },
   "outputs": [],
   "source": [
    "# Setting print format\n",
    "np.set_printoptions(precision=2, linewidth=120, suppress=True, edgeitems=4)"
   ]
  },
  {
   "cell_type": "code",
   "execution_count": 379,
   "metadata": {
    "collapsed": true
   },
   "outputs": [],
   "source": [
    "# Adding Bias term x0 in data set.\n",
    "x = np.array([np.concatenate((v,[1])) for v in divy.data])"
   ]
  },
  {
   "cell_type": "code",
   "execution_count": 380,
   "metadata": {
    "collapsed": false
   },
   "outputs": [],
   "source": [
    "# Assign target data to target variable y\n",
    "y = divy.target"
   ]
  },
  {
   "cell_type": "code",
   "execution_count": 381,
   "metadata": {
    "collapsed": true
   },
   "outputs": [],
   "source": [
    "# Helper functions:\n",
    "# Function to take log of target variable, linear regression sometimes predict -ve values, \n",
    "# Keeping target variable on log scale avoids it.\n",
    "# Below are some fuctions to alter target and prediction on a different scale to avoid this problem.\n",
    "# Other utility functions\n",
    "\n",
    "# target variable to log scale\n",
    "def target_to_ln(y):\n",
    "    neg_inf = .001\n",
    "    tmp_t = []\n",
    "    for t in y:\n",
    "        if 0==t:\n",
    "            tmp_t.append(neg_inf)\n",
    "        else:\n",
    "            tmp_t.append(np.log(t))\n",
    "    return tmp_t\n",
    "\n",
    "# Rescaling of predictions from log\n",
    "def ln_to_target(p):\n",
    "    tmp_t = []\n",
    "    for t in p:\n",
    "        tmp_t.append(np.exp(t))\n",
    "    return tmp_t\n",
    "\n",
    "# Truncate -ve predictions\n",
    "def truncate_neg_predictions(p):\n",
    "    t = []\n",
    "    for items in p:\n",
    "        if items <0:\n",
    "            t.append(0)\n",
    "        else:\n",
    "            t.append(items)\n",
    "    return t\n",
    "\n",
    "# Scaling of target to square root\n",
    "def scale_var_on_sqrt(var):\n",
    "    t= []\n",
    "    t= var\n",
    "    for index, items in enumerate(t):\n",
    "        t[index] = np.sqrt(t[index])\n",
    "    return t\n",
    "\n",
    "# Rescaling of target from square root\n",
    "def rescale_var_from_sqrt(var):\n",
    "    t= []\n",
    "    t= var\n",
    "    for index, items in enumerate(t):\n",
    "        t[index] = np.square(t[index])\n",
    "    return t\n",
    "\n",
    "# Cross validation computations for different models\n",
    "def cross_validation_computations(clf, folds, x, y):\n",
    "    kf = KFold(len(x), n_folds=folds, shuffle=True)\n",
    "    xval_err = 0\n",
    "    z_error = 0\n",
    "    for train,test in kf:\n",
    "        clf.fit(x[train],y[train])\n",
    "        z_ = y[test]\n",
    "        z_mean = y[test] - np.mean(z_)\n",
    "        pred = clf.predict(x[test])\n",
    "        e = pred-y[test]\n",
    "        xval_err += np.dot(e,e)\n",
    "        z_error += np.dot(e,e)/np.dot(z_mean,z_mean)\n",
    "\n",
    "    rmse_10cv = np.sqrt(xval_err/len(x))\n",
    "    rse_10cv = z_error/folds\n",
    "    r2_10cv = 1-z_error/folds\n",
    "\n",
    "    clf.fit(x,y)\n",
    "    r2_score = cross_val_score(clf, x, y, cv=folds, scoring ='r2')\n",
    "    return rmse_10cv, rse_10cv, r2_10cv, r2_score\n",
    "\n",
    "# Computation over trained data\n",
    "def train_data_computations(clf, x,y):\n",
    "\n",
    "    #Predicting on train data itself\n",
    "    pred = clf.predict(x)\n",
    "\n",
    "    # Errors on train data\n",
    "    err = abs(pred - y)\n",
    "\n",
    "    #calculating mean on target variable\n",
    "    meanr = np.mean(y)\n",
    "    z = y\n",
    "    z = abs(z-meanr)\n",
    "    error = np.dot(err,err)\n",
    "\n",
    "    # Computing RMSE\n",
    "    train_rmse_err = np.sqrt(error/len(pred))\n",
    "\n",
    "    # Computing RSE\n",
    "    rse_error_pred = error / np.dot(z,z)\n",
    "    r2_train_error = 1-rse_error_pred\n",
    "    return meanr, train_rmse_err, rse_error_pred, r2_train_error\n",
    "\n",
    "# Printing features in decreasing order of coefficients : Shows important features in begining\n",
    "def prinitng_imp_features(clf):\n",
    "    \n",
    "    #print ('Regression Coefficients: \\n', clf.coef_)\n",
    "    a = clf.coef_.tolist()\n",
    "    b = divy.feature_names.tolist()\n",
    "    c = list(zip(a,b))\n",
    "    c.sort(key=lambda k: k[0], reverse=True)\n",
    "    for iter_ in c:\n",
    "        print(\"%.3f  %s\" %(iter_[0], iter_[1]))\n",
    "\n",
    "# Fix the kfolds to 10\n",
    "test_kfolds = 10"
   ]
  },
  {
   "cell_type": "markdown",
   "metadata": {},
   "source": [
    "## Models of regression different approach for the project:\n",
    "1. Linear regression\n",
    "2. Ridge regression(different alpha values)\n",
    "3. Lasso regression(different alpha values)\n",
    "4. All three regression models with polynomial features of degree 2 and degree 3.\n",
    "5. cross validation 10 folds on all of them.\n",
    "6. Measures used RMSE, RSE and R2."
   ]
  },
  {
   "cell_type": "markdown",
   "metadata": {},
   "source": [
    "# Baseline for regression"
   ]
  },
  {
   "cell_type": "markdown",
   "metadata": {},
   "source": [
    "### Baseline for Mean Regression"
   ]
  },
  {
   "cell_type": "code",
   "execution_count": 382,
   "metadata": {
    "collapsed": false,
    "scrolled": true
   },
   "outputs": [
    {
     "name": "stdout",
     "output_type": "stream",
     "text": [
      "BaseLine mean Regression stats on train data:\n",
      "MEean of target is : 9.3422459893\n",
      "RMSE over train data is:  12.9547857905\n",
      "Rse is  \t\t:1.000\n",
      "R^2 is  \t\t:0.000\n",
      "R^2 is  \t\t:0.000\n",
      "\n",
      "BaseLine mean Regression stats on 10fold cv:\n",
      "RMSE over train data is:  12.9592031785\n",
      "Rse is  \t\t:1.003\n",
      "R^2 is  \t\t:-0.292\n"
     ]
    }
   ],
   "source": [
    "#baseline predictor using dummy regressor\n",
    "def baseline_predict(x, y):\n",
    "    y_mean = np.mean(y)\n",
    "    p_base = np.array([y_mean]*len(y))\n",
    "    err = abs(p_base-y)\n",
    "    error = np.dot(err,err)\n",
    "    train_rmse_err = np.sqrt(error/len(p_base))\n",
    "    return train_rmse_err, p_base\n",
    "\n",
    "dummy = DummyRegressor(strategy = 'mean')\n",
    "dummy.fit(x,y)\n",
    "p_base = dummy.predict(x)\n",
    "\n",
    "meanr, train_rmse_err, rse_error_pred, r2_train_error = train_data_computations(dummy, x,y)\n",
    "\n",
    "#Predicting baseline on train data itself\n",
    "print(\"BaseLine mean Regression stats on train data:\")\n",
    "print(\"MEean of target is :\", meanr)\n",
    "print (\"RMSE over train data is: \", train_rmse_err)\n",
    "print(\"Rse is  \\t\\t:%.3f\"%( rse_error_pred))\n",
    "print(\"R^2 is  \\t\\t:%.3f\"%(1-rse_error_pred))\n",
    "print(\"R^2 is  \\t\\t:%.3f\"%(r2_train_error))\n",
    "\n",
    "print(\"\")\n",
    "\n",
    "rmse_10cv, rse_10cv, r2_10cv, r2_score = cross_validation_computations(dummy, test_kfolds, x, y)\n",
    "print(\"BaseLine mean Regression stats on 10fold cv:\")\n",
    "print (\"RMSE over train data is: \", rmse_10cv)\n",
    "print(\"Rse is  \\t\\t:%.3f\"%( rse_10cv))\n",
    "#print(\"R^2 is  \\t\\t:%.3f\"%(r2_10cv))\n",
    "print(\"R^2 is  \\t\\t:%.3f\"%(np.mean(r2_score)))\n",
    "\n",
    "baseline_mean_RMSE =  train_rmse_err\n",
    "baseline_mean_r2 =  r2_train_error\n",
    "baseline_mean_RMSE_c =  rmse_10cv\n",
    "baseline_mean_r2_c =  np.mean(r2_score)"
   ]
  },
  {
   "cell_type": "markdown",
   "metadata": {},
   "source": [
    "### Baseline for Median Regression"
   ]
  },
  {
   "cell_type": "code",
   "execution_count": 383,
   "metadata": {
    "collapsed": false
   },
   "outputs": [
    {
     "name": "stdout",
     "output_type": "stream",
     "text": [
      "BaseLine median Regression stats on train data:\n",
      "MEean of target is : 9.3422459893\n",
      "RMSE over train data is:  14.4239578156\n",
      "Rse is  \t\t:1.240\n",
      "R^2 is  \t\t:-0.240\n",
      "R^2 is  \t\t:-0.240\n",
      "\n",
      "BaseLine median Regression stats on 10fold cv:\n",
      "RMSE over train data is:  14.4239578156\n",
      "Rse is  \t\t:1.244\n",
      "R^2 is  \t\t:-0.302\n"
     ]
    }
   ],
   "source": [
    "dummy = DummyRegressor(strategy = 'median')\n",
    "dummy.fit(x,y)\n",
    "p_base = dummy.predict(x)\n",
    "\n",
    "meanr, train_rmse_err, rse_error_pred, r2_train_error = train_data_computations(dummy, x,y)\n",
    "\n",
    "#Predicting baseline on train data itself\n",
    "print(\"BaseLine median Regression stats on train data:\")\n",
    "print(\"MEean of target is :\", meanr)\n",
    "print (\"RMSE over train data is: \", train_rmse_err)\n",
    "print(\"Rse is  \\t\\t:%.3f\"%( rse_error_pred))\n",
    "print(\"R^2 is  \\t\\t:%.3f\"%(1-rse_error_pred))\n",
    "print(\"R^2 is  \\t\\t:%.3f\"%(r2_train_error))\n",
    "\n",
    "print(\"\")\n",
    "\n",
    "rmse_10cv, rse_10cv, r2_10cv, r2_score = cross_validation_computations(dummy, test_kfolds, x, y)\n",
    "print(\"BaseLine median Regression stats on 10fold cv:\")\n",
    "print (\"RMSE over train data is: \", rmse_10cv)\n",
    "print(\"Rse is  \\t\\t:%.3f\"%( rse_10cv))\n",
    "#print(\"R^2 is  \\t\\t:%.3f\"%(r2_10cv))\n",
    "print(\"R^2 is  \\t\\t:%.3f\"%(np.mean(r2_score)))\n",
    "baseline_median_RMSE =  train_rmse_err\n",
    "baseline_median_r2 =  r2_train_error\n",
    "baseline_median_RMSE_c =  rmse_10cv\n",
    "baseline_median_r2_c =  np.mean(r2_score)\n"
   ]
  },
  {
   "cell_type": "markdown",
   "metadata": {},
   "source": [
    "# Trying Linear Regression on Linear Features"
   ]
  },
  {
   "cell_type": "code",
   "execution_count": 384,
   "metadata": {
    "collapsed": false
   },
   "outputs": [],
   "source": [
    "#Linear regression object\n",
    "lin_reg = LinearRegression()\n",
    "\n",
    "#Trying to fit Linear regression object on whole data\n",
    "lin_reg.fit(x,y)\n",
    "pred = lin_reg.predict(x)"
   ]
  },
  {
   "cell_type": "code",
   "execution_count": 385,
   "metadata": {
    "collapsed": false,
    "scrolled": true
   },
   "outputs": [
    {
     "name": "stdout",
     "output_type": "stream",
     "text": [
      "Linear Regression stats on train data:\n",
      "MEean of target is : 9.3422459893\n",
      "RMSE over train data is:  9.39246473384\n",
      "\n",
      "Rse is  \t\t:0.526\n",
      "R^2 is  \t\t:0.474\n",
      "R^2 is  \t\t:0.474\n"
     ]
    }
   ],
   "source": [
    "meanr, train_rmse_err, rse_error_pred, r2_train_error = train_data_computations(lin_reg, x,y)\n",
    "\n",
    "#Predicting on train data itself\n",
    "print(\"Linear Regression stats on train data:\")\n",
    "print(\"MEean of target is :\", meanr)\n",
    "print (\"RMSE over train data is: \", train_rmse_err)\n",
    "print(\"\")\n",
    "# bigger R^2 indicate a better fit on data.\n",
    "print(\"Rse is  \\t\\t:%.3f\"%( rse_error_pred))\n",
    "print(\"R^2 is  \\t\\t:%.3f\"%(1-rse_error_pred))\n",
    "print(\"R^2 is  \\t\\t:%.3f\"%(r2_train_error))\n"
   ]
  },
  {
   "cell_type": "code",
   "execution_count": 386,
   "metadata": {
    "collapsed": false
   },
   "outputs": [
    {
     "name": "stdout",
     "output_type": "stream",
     "text": [
      "110.350  TemperatureF\n",
      "26.049  Humidity\n",
      "9.769  Wind_SpeedMPH\n",
      "-0.194  VisibilityMPH\n",
      "-2.884  WindDirDegrees\n",
      "-4.598  Sea_Level_PressureIn\n",
      "-83.797  Dew_PointF\n"
     ]
    }
   ],
   "source": [
    "# high cofficient represents high co-relation with target variable\n",
    "# printing features in sorted order of cofficient\n",
    "prinitng_imp_features(lin_reg)"
   ]
  },
  {
   "cell_type": "code",
   "execution_count": 387,
   "metadata": {
    "collapsed": false
   },
   "outputs": [
    {
     "data": {
      "image/png": "[encoded data removed]",
      "text/plain": [
       "<matplotlib.figure.Figure at 0xa99aab2c>"
      ]
     },
     "metadata": {},
     "output_type": "display_data"
    }
   ],
   "source": [
    "# How well we are doing on train data\n",
    "# following figure graph shows the how linear regression fits predicted and actual on train data itself.\n",
    "# It tells us how well it has fit the data itself.\n",
    "\n",
    "%matplotlib inline\n",
    "pl.plot(pred, y,'ro', alpha = 0.15)\n",
    "pl.plot([0,70],[0,70], 'b-')\n",
    "pl.xlabel('predicted data')\n",
    "pl.ylabel('real data')\n",
    "pl.show()\n"
   ]
  },
  {
   "cell_type": "code",
   "execution_count": 388,
   "metadata": {
    "collapsed": false,
    "scrolled": true
   },
   "outputs": [
    {
     "name": "stdout",
     "output_type": "stream",
     "text": [
      "Stats CV10:\n",
      "Method: Simple Linear Regression\n",
      "RMSE on training: 9.3925\n",
      "RMSE on 10-fold CV: 9.4266\n",
      "R2 on 10-fold CV: 0.4040\n"
     ]
    }
   ],
   "source": [
    "# Cv10 on linear regression\n",
    "rmse_10cv, rse_10cv, r2_10cv, r2_score = cross_validation_computations(lin_reg, test_kfolds, x, y)\n",
    "method_name = 'Simple Linear Regression'\n",
    "print(\"Stats CV10:\")\n",
    "print('Method: %s' %method_name)\n",
    "print('RMSE on training: %.4f' %train_rmse_err)\n",
    "print('RMSE on 10-fold CV: %.4f' %rmse_10cv)\n",
    "print('R2 on 10-fold CV: %.4f' %np.mean(r2_score))\n",
    "\n",
    "lin_reg_RMSE =  train_rmse_err\n",
    "lin_reg_r2 =  r2_train_error\n",
    "lin_reg_RMSE_c =  rmse_10cv\n",
    "line_reg_r2_c =  np.mean(r2_score)"
   ]
  },
  {
   "cell_type": "markdown",
   "metadata": {
    "collapsed": true
   },
   "source": [
    "# Now trying Ridge Regression on Linear Features"
   ]
  },
  {
   "cell_type": "code",
   "execution_count": 389,
   "metadata": {
    "collapsed": false
   },
   "outputs": [
    {
     "data": {
      "text/plain": [
       "Ridge(alpha=0.5, copy_X=True, fit_intercept=True, max_iter=None,\n",
       "   normalize=False, random_state=None, solver='auto', tol=0.001)"
      ]
     },
     "execution_count": 389,
     "metadata": {},
     "output_type": "execute_result"
    }
   ],
   "source": [
    "# Creating ridge regression object with a ridge coefficient (alpha) 0.5\n",
    "ridge_reg = Ridge(fit_intercept=True, alpha=0.5)\n",
    "\n",
    "# Training the model using the training set\n",
    "ridge_reg.fit(x,y)"
   ]
  },
  {
   "cell_type": "code",
   "execution_count": 390,
   "metadata": {
    "collapsed": false
   },
   "outputs": [
    {
     "name": "stdout",
     "output_type": "stream",
     "text": [
      "Stats for ridge: over train data\n",
      "MEean of target is : 9.3422459893\n",
      "RMSE over train data is:  9.45096993372\n",
      "Rse is  \t\t:0.532\n",
      "R^2 is  \t\t:0.468\n"
     ]
    }
   ],
   "source": [
    "# Computing RMSE on training data for ridge regression\n",
    "meanr, train_rmse_err, rse_error_pred, r2_train_error = train_data_computations(ridge_reg, x,y)\n",
    "print(\"Stats for ridge: over train data\")\n",
    "method_name = 'Ridge Regression'\n",
    "print(\"MEean of target is :\", meanr)\n",
    "print (\"RMSE over train data is: \", train_rmse_err)\n",
    "\n",
    "# bigger R^2 indicate a better fit on data.\n",
    "print(\"Rse is  \\t\\t:%.3f\"%( rse_error_pred))\n",
    "print(\"R^2 is  \\t\\t:%.3f\"%(1-rse_error_pred))"
   ]
  },
  {
   "cell_type": "code",
   "execution_count": 391,
   "metadata": {
    "collapsed": false
   },
   "outputs": [
    {
     "name": "stdout",
     "output_type": "stream",
     "text": [
      "58.988  TemperatureF\n",
      "9.380  Wind_SpeedMPH\n",
      "-3.250  WindDirDegrees\n",
      "-4.169  VisibilityMPH\n",
      "-4.838  Humidity\n",
      "-6.468  Sea_Level_PressureIn\n",
      "-33.287  Dew_PointF\n"
     ]
    }
   ],
   "source": [
    "prinitng_imp_features(ridge_reg)"
   ]
  },
  {
   "cell_type": "markdown",
   "metadata": {},
   "source": [
    "#### Ridge Regression experiment for different value of alpha."
   ]
  },
  {
   "cell_type": "code",
   "execution_count": 392,
   "metadata": {
    "collapsed": false
   },
   "outputs": [
    {
     "name": "stdout",
     "output_type": "stream",
     "text": [
      "Ridge Regression\n",
      "alpha\t RMSE_train\t RMSE_10cv\t R2cv10\n",
      "\n",
      "0.010\t 9.3926\t\t 9.4443\t\t 0.403780\n",
      "0.348\t 9.4341\t\t 9.4679\t\t 0.392850\n",
      "0.685\t 9.4671\t\t 9.5022\t\t 0.386658\n",
      "1.023\t 9.4880\t\t 9.5179\t\t 0.383372\n",
      "1.361\t 9.5021\t\t 9.5333\t\t 0.381509\n",
      "1.699\t 9.5124\t\t 9.5361\t\t 0.380418\n",
      "2.036\t 9.5204\t\t 9.5415\t\t 0.379784\n",
      "2.374\t 9.5268\t\t 9.5562\t\t 0.379437\n",
      "2.712\t 9.5321\t\t 9.5593\t\t 0.379278\n",
      "3.049\t 9.5367\t\t 9.5759\t\t 0.379246\n",
      "3.387\t 9.5407\t\t 9.5709\t\t 0.379302\n",
      "3.725\t 9.5444\t\t 9.5780\t\t 0.379418\n",
      "4.062\t 9.5477\t\t 9.5908\t\t 0.379577\n",
      "4.400\t 9.5508\t\t 9.5813\t\t 0.379764\n",
      "4.738\t 9.5538\t\t 9.5819\t\t 0.379970\n",
      "5.076\t 9.5566\t\t 9.5914\t\t 0.380189\n",
      "5.413\t 9.5593\t\t 9.5915\t\t 0.380414\n",
      "5.751\t 9.5619\t\t 9.5897\t\t 0.380641\n",
      "6.089\t 9.5645\t\t 9.5900\t\t 0.380868\n",
      "6.426\t 9.5670\t\t 9.5954\t\t 0.381092\n",
      "6.764\t 9.5695\t\t 9.5986\t\t 0.381310\n",
      "7.102\t 9.5720\t\t 9.6000\t\t 0.381522\n",
      "7.439\t 9.5745\t\t 9.5977\t\t 0.381727\n",
      "7.777\t 9.5769\t\t 9.6072\t\t 0.381923\n",
      "8.115\t 9.5793\t\t 9.6081\t\t 0.382109\n",
      "8.453\t 9.5818\t\t 9.6131\t\t 0.382286\n",
      "8.790\t 9.5842\t\t 9.6145\t\t 0.382452\n",
      "9.128\t 9.5866\t\t 9.6170\t\t 0.382608\n",
      "9.466\t 9.5891\t\t 9.6280\t\t 0.382753\n",
      "9.803\t 9.5915\t\t 9.6167\t\t 0.382887\n",
      "10.141\t 9.5940\t\t 9.6250\t\t 0.383011\n",
      "10.479\t 9.5965\t\t 9.6273\t\t 0.383123\n",
      "10.816\t 9.5989\t\t 9.6342\t\t 0.383224\n",
      "11.154\t 9.6014\t\t 9.6309\t\t 0.383315\n",
      "11.492\t 9.6040\t\t 9.6380\t\t 0.383394\n",
      "11.830\t 9.6065\t\t 9.6438\t\t 0.383463\n",
      "12.167\t 9.6090\t\t 9.6374\t\t 0.383521\n",
      "12.505\t 9.6116\t\t 9.6529\t\t 0.383568\n",
      "12.843\t 9.6141\t\t 9.6603\t\t 0.383605\n",
      "13.180\t 9.6167\t\t 9.6583\t\t 0.383632\n",
      "13.518\t 9.6193\t\t 9.6611\t\t 0.383648\n",
      "13.856\t 9.6219\t\t 9.6510\t\t 0.383654\n",
      "14.194\t 9.6246\t\t 9.6636\t\t 0.383651\n",
      "14.531\t 9.6272\t\t 9.6672\t\t 0.383638\n",
      "14.869\t 9.6299\t\t 9.6610\t\t 0.383615\n",
      "15.207\t 9.6326\t\t 9.6731\t\t 0.383582\n",
      "15.544\t 9.6352\t\t 9.6717\t\t 0.383541\n",
      "15.882\t 9.6379\t\t 9.6723\t\t 0.383490\n",
      "16.220\t 9.6407\t\t 9.6758\t\t 0.383430\n",
      "16.557\t 9.6434\t\t 9.6769\t\t 0.383362\n",
      "16.895\t 9.6461\t\t 9.6788\t\t 0.383285\n",
      "17.233\t 9.6489\t\t 9.6852\t\t 0.383199\n",
      "17.571\t 9.6516\t\t 9.6859\t\t 0.383105\n",
      "17.908\t 9.6544\t\t 9.6937\t\t 0.383003\n",
      "18.246\t 9.6572\t\t 9.6957\t\t 0.382893\n",
      "18.584\t 9.6600\t\t 9.6980\t\t 0.382775\n",
      "18.921\t 9.6628\t\t 9.7122\t\t 0.382650\n",
      "19.259\t 9.6657\t\t 9.7047\t\t 0.382516\n",
      "19.597\t 9.6685\t\t 9.7073\t\t 0.382376\n",
      "19.934\t 9.6713\t\t 9.7121\t\t 0.382228\n",
      "20.272\t 9.6742\t\t 9.7139\t\t 0.382073\n",
      "20.610\t 9.6771\t\t 9.7166\t\t 0.381911\n",
      "20.948\t 9.6799\t\t 9.7208\t\t 0.381742\n",
      "21.285\t 9.6828\t\t 9.7248\t\t 0.381566\n",
      "21.623\t 9.6857\t\t 9.7201\t\t 0.381384\n",
      "21.961\t 9.6886\t\t 9.7273\t\t 0.381195\n",
      "22.298\t 9.6915\t\t 9.7375\t\t 0.381000\n",
      "22.636\t 9.6945\t\t 9.7408\t\t 0.380798\n",
      "22.974\t 9.6974\t\t 9.7390\t\t 0.380591\n",
      "23.311\t 9.7003\t\t 9.7531\t\t 0.380377\n",
      "23.649\t 9.7033\t\t 9.7527\t\t 0.380158\n",
      "23.987\t 9.7062\t\t 9.7440\t\t 0.379932\n",
      "24.325\t 9.7092\t\t 9.7624\t\t 0.379701\n",
      "24.662\t 9.7122\t\t 9.7552\t\t 0.379465\n",
      "25.000\t 9.7151\t\t 9.7637\t\t 0.379223\n"
     ]
    }
   ],
   "source": [
    "print('Ridge Regression')\n",
    "print('alpha\\t RMSE_train\\t RMSE_10cv\\t R2cv10\\n')\n",
    "\n",
    "#different value of alpha\n",
    "alpha = np.linspace(.01,25,75)\n",
    "rmse_train_ = np.array([])\n",
    "rmse_cv10_ = np.array([])\n",
    "r2_cv10_    = np.array([])\n",
    "rse_cv10_ = np.array([])\n",
    "\n",
    "for a in alpha:\n",
    "    ridge_reg = Ridge(fit_intercept=True, alpha=a)\n",
    "    ridge_reg.fit(x,y)\n",
    "    rmse_cv10, rse_cv10, r2_cv10, r2_scorecv10 = cross_validation_computations(ridge_reg, test_kfolds, x, y)\n",
    "    pred = ridge_reg.predict(x)\n",
    "    err = pred-y\n",
    "    total_error = np.dot(err,err)\n",
    "    rmse_train = np.sqrt(total_error/len(pred))\n",
    "    \n",
    "    rmse_train_ = np.append(rmse_train_, [rmse_train])\n",
    "    rmse_cv10_ = np.append(rmse_cv10_, [rmse_cv10])\n",
    "    rse_cv10_ = np.append(rse_cv10_, [rse_cv10])\n",
    "    r2_cv10_ = np.append(r2_cv10_, [np.mean(r2_scorecv10)])\n",
    "    print('{:.3f}\\t {:.4f}\\t\\t {:.4f}\\t\\t {:.6f}'.format(a,rmse_train,rmse_cv10, np.mean(r2_scorecv10)))"
   ]
  },
  {
   "cell_type": "code",
   "execution_count": 393,
   "metadata": {
    "collapsed": false
   },
   "outputs": [
    {
     "data": {
      "image/png": "[encoded data removed]",
      "text/plain": [
       "<matplotlib.figure.Figure at 0xa975254c>"
      ]
     },
     "metadata": {},
     "output_type": "display_data"
    }
   ],
   "source": [
    "# Graph for 10 fold validation\n",
    "%matplotlib inline\n",
    "pl.plot(alpha, rmse_train_, label='RMSE-over-Train')\n",
    "pl.plot(alpha, rmse_cv10_, label='RMSE_Val_10fold')\n",
    "pl.legend( ('RMSE-Train', 'RMSE_Val_10fold') )\n",
    "pl.ylabel('RMSE Score')\n",
    "pl.xlabel('Alpha values Ridge')\n",
    "pl.show()"
   ]
  },
  {
   "cell_type": "markdown",
   "metadata": {},
   "source": [
    "# Trying Lasso Regression on Linear Features"
   ]
  },
  {
   "cell_type": "code",
   "execution_count": 394,
   "metadata": {
    "collapsed": false
   },
   "outputs": [
    {
     "name": "stdout",
     "output_type": "stream",
     "text": [
      "Stats for lasso: over train data\n",
      "MEean of target is : 9.3422459893\n",
      "RMSE over train data is:  10.1684547211\n",
      "Rse is  \t\t:0.616\n",
      "R^2 is  \t\t:0.384\n"
     ]
    }
   ],
   "source": [
    "# Create lasson regression object with a lso\n",
    "lso_reg = Lasso(alpha=0.5)\n",
    "\n",
    "# Train the model using the training set\n",
    "lso_reg.fit(x,y)\n",
    "\n",
    "# Computing RMSE on training data for lasso regression\n",
    "meanr, train_rmse_err, rse_error_pred, r2_train_error = train_data_computations(lso_reg, x,y)\n",
    "\n",
    "print(\"Stats for lasso: over train data\")\n",
    "method_name = 'Lasso Regression'\n",
    "\n",
    "print(\"MEean of target is :\", meanr)\n",
    "print (\"RMSE over train data is: \", train_rmse_err)\n",
    "# bigger Rse indicate a better fit on data.\n",
    "print(\"Rse is  \\t\\t:%.3f\"%( rse_error_pred))\n",
    "print(\"R^2 is  \\t\\t:%.3f\"%(1-rse_error_pred))"
   ]
  },
  {
   "cell_type": "markdown",
   "metadata": {},
   "source": [
    "### Printing Important Features "
   ]
  },
  {
   "cell_type": "code",
   "execution_count": 395,
   "metadata": {
    "collapsed": false,
    "scrolled": true
   },
   "outputs": [
    {
     "name": "stdout",
     "output_type": "stream",
     "text": [
      "16.538  TemperatureF\n",
      "0.000  Dew_PointF\n",
      "-0.000  Sea_Level_PressureIn\n",
      "0.000  VisibilityMPH\n",
      "0.000  Wind_SpeedMPH\n",
      "-0.000  WindDirDegrees\n",
      "-15.302  Humidity\n"
     ]
    }
   ],
   "source": [
    "prinitng_imp_features(lso_reg)"
   ]
  },
  {
   "cell_type": "markdown",
   "metadata": {},
   "source": [
    "### Lasso for different value of alpha:"
   ]
  },
  {
   "cell_type": "code",
   "execution_count": 396,
   "metadata": {
    "collapsed": false
   },
   "outputs": [
    {
     "name": "stdout",
     "output_type": "stream",
     "text": [
      "Lasso Regression : \n",
      "alpha        RMSE_train        RMSE_10cv        R2cv10\n",
      "\n",
      "0.010        9.4369        9.4738        0.395857\n",
      "0.348        9.9683        9.9836        0.355203\n",
      "0.685        10.5004        10.5087        0.254876\n",
      "1.023        11.3257        11.3461        0.049879\n",
      "1.361        12.3856        12.4029        -0.181711\n",
      "1.699        12.9548        12.9643        -0.291677\n",
      "2.036        12.9548        12.9573        -0.291677\n",
      "2.374        12.9548        12.9607        -0.291677\n",
      "2.712        12.9548        12.9595        -0.291677\n",
      "3.049        12.9548        12.9623        -0.291677\n",
      "3.387        12.9548        12.9586        -0.291677\n",
      "3.725        12.9548        12.9626        -0.291677\n",
      "4.062        12.9548        12.9655        -0.291677\n",
      "4.400        12.9548        12.9595        -0.291677\n",
      "4.738        12.9548        12.9565        -0.291677\n",
      "5.076        12.9548        12.9582        -0.291677\n",
      "5.413        12.9548        12.9643        -0.291677\n",
      "5.751        12.9548        12.9610        -0.291677\n",
      "6.089        12.9548        12.9563        -0.291677\n",
      "6.426        12.9548        12.9618        -0.291677\n",
      "6.764        12.9548        12.9626        -0.291677\n",
      "7.102        12.9548        12.9589        -0.291677\n",
      "7.439        12.9548        12.9601        -0.291677\n",
      "7.777        12.9548        12.9589        -0.291677\n",
      "8.115        12.9548        12.9645        -0.291677\n",
      "8.453        12.9548        12.9669        -0.291677\n",
      "8.790        12.9548        12.9646        -0.291677\n",
      "9.128        12.9548        12.9602        -0.291677\n",
      "9.466        12.9548        12.9639        -0.291677\n",
      "9.803        12.9548        12.9588        -0.291677\n",
      "10.141        12.9548        12.9608        -0.291677\n",
      "10.479        12.9548        12.9594        -0.291677\n",
      "10.816        12.9548        12.9595        -0.291677\n",
      "11.154        12.9548        12.9597        -0.291677\n",
      "11.492        12.9548        12.9625        -0.291677\n",
      "11.830        12.9548        12.9652        -0.291677\n",
      "12.167        12.9548        12.9589        -0.291677\n",
      "12.505        12.9548        12.9604        -0.291677\n",
      "12.843        12.9548        12.9605        -0.291677\n",
      "13.180        12.9548        12.9611        -0.291677\n",
      "13.518        12.9548        12.9623        -0.291677\n",
      "13.856        12.9548        12.9645        -0.291677\n",
      "14.194        12.9548        12.9630        -0.291677\n",
      "14.531        12.9548        12.9653        -0.291677\n",
      "14.869        12.9548        12.9686        -0.291677\n",
      "15.207        12.9548        12.9620        -0.291677\n",
      "15.544        12.9548        12.9570        -0.291677\n",
      "15.882        12.9548        12.9701        -0.291677\n",
      "16.220        12.9548        12.9644        -0.291677\n",
      "16.557        12.9548        12.9616        -0.291677\n",
      "16.895        12.9548        12.9660        -0.291677\n",
      "17.233        12.9548        12.9586        -0.291677\n",
      "17.571        12.9548        12.9580        -0.291677\n",
      "17.908        12.9548        12.9673        -0.291677\n",
      "18.246        12.9548        12.9611        -0.291677\n",
      "18.584        12.9548        12.9597        -0.291677\n",
      "18.921        12.9548        12.9605        -0.291677\n",
      "19.259        12.9548        12.9575        -0.291677\n",
      "19.597        12.9548        12.9598        -0.291677\n",
      "19.934        12.9548        12.9580        -0.291677\n",
      "20.272        12.9548        12.9591        -0.291677\n",
      "20.610        12.9548        12.9640        -0.291677\n",
      "20.948        12.9548        12.9629        -0.291677\n",
      "21.285        12.9548        12.9681        -0.291677\n",
      "21.623        12.9548        12.9605        -0.291677\n",
      "21.961        12.9548        12.9610        -0.291677\n",
      "22.298        12.9548        12.9627        -0.291677\n",
      "22.636        12.9548        12.9679        -0.291677\n",
      "22.974        12.9548        12.9603        -0.291677\n",
      "23.311        12.9548        12.9590        -0.291677\n",
      "23.649        12.9548        12.9610        -0.291677\n",
      "23.987        12.9548        12.9575        -0.291677\n",
      "24.325        12.9548        12.9611        -0.291677\n",
      "24.662        12.9548        12.9601        -0.291677\n",
      "25.000        12.9548        12.9669        -0.291677\n"
     ]
    }
   ],
   "source": [
    "print('Lasso Regression : ')\n",
    "print('alpha        RMSE_train        RMSE_10cv        R2cv10\\n')\n",
    "\n",
    "#different value of alpha\n",
    "alpha = np.linspace(.01,25,75)\n",
    "rmse_train_ = np.array([])\n",
    "rmse_cv10_ = np.array([])\n",
    "r2_cv10_    = np.array([])\n",
    "rse_cv10_ = np.array([])\n",
    "\n",
    "for a in alpha:\n",
    "    lso_reg = Lasso(fit_intercept=True, alpha=a)\n",
    "    lso_reg.fit(x,y)\n",
    "    rmse_cv10, rse_cv10, r2_cv10, r2_scorecv10 = cross_validation_computations(lso_reg, test_kfolds, x, y)\n",
    "    pred = lso_reg.predict(x)\n",
    "    err = pred-y\n",
    "    total_error = np.dot(err,err)\n",
    "    rmse_train = np.sqrt(total_error/len(pred))\n",
    "    \n",
    "    rmse_train_ = np.append(rmse_train_, [rmse_train])\n",
    "    rmse_cv10_ = np.append(rmse_cv10_, [rmse_cv10])\n",
    "    rse_cv10_ = np.append(rse_cv10_, [rse_cv10])\n",
    "    r2_cv10_ = np.append(r2_cv10_, [np.mean(r2_scorecv10)])\n",
    "    print('{:.3f}        {:.4f}        {:.4f}        {:.6f}'.format(a,rmse_train,rmse_cv10, np.mean(r2_scorecv10)))"
   ]
  },
  {
   "cell_type": "code",
   "execution_count": 397,
   "metadata": {
    "collapsed": false
   },
   "outputs": [
    {
     "data": {
      "image/png": "[encoded data removed]",
      "text/plain": [
       "<matplotlib.figure.Figure at 0xa9a521cc>"
      ]
     },
     "metadata": {},
     "output_type": "display_data"
    }
   ],
   "source": [
    "# Graph for 10 fold validation\n",
    "%matplotlib inline\n",
    "pl.plot(alpha, rmse_train_, label='RMSE-over-Train')\n",
    "pl.plot(alpha, rmse_cv10_, label='RMSE_Val_10fold')\n",
    "pl.legend( ('RMSE-Train', 'RMSE_Val_10fold') )\n",
    "pl.ylabel('RMSE Score')\n",
    "pl.xlabel('Alpha values Ridge')\n",
    "pl.show()"
   ]
  },
  {
   "cell_type": "markdown",
   "metadata": {},
   "source": [
    "# Creating Polynomial Regression of Degree 2\n"
   ]
  },
  {
   "cell_type": "code",
   "execution_count": 398,
   "metadata": {
    "collapsed": false
   },
   "outputs": [],
   "source": [
    "poly = PolynomialFeatures(degree=2)\n",
    "x_new = poly.fit_transform(x)\n",
    "x_old = x"
   ]
  },
  {
   "cell_type": "code",
   "execution_count": 399,
   "metadata": {
    "collapsed": false
   },
   "outputs": [
    {
     "name": "stdout",
     "output_type": "stream",
     "text": [
      "Original Data Shape =  (2057, 8)\n",
      "Polynomial Degree 2 Data Shape =  (2057, 45)\n"
     ]
    }
   ],
   "source": [
    "print(\"Original Data Shape = \", x.shape)\n",
    "print(\"Polynomial Degree 2 Data Shape = \", x_new.shape)"
   ]
  },
  {
   "cell_type": "markdown",
   "metadata": {},
   "source": [
    "# Linear Regression on Polynomial Features of Degree 2"
   ]
  },
  {
   "cell_type": "code",
   "execution_count": 400,
   "metadata": {
    "collapsed": false
   },
   "outputs": [
    {
     "name": "stdout",
     "output_type": "stream",
     "text": [
      "Poly Linear Regression(degree-2) stats on train data:\n",
      "MEean of target is : 9.3422459893\n",
      "RMSE over train data is:  9.1823682433\n",
      "Rse is  \t\t:0.502\n",
      "R^2 is  \t\t:0.498\n"
     ]
    }
   ],
   "source": [
    "#Linear regression object\n",
    "x=x_new\n",
    "\n",
    "lin_reg = LinearRegression()\n",
    "lin_reg.fit(x_new, y)\n",
    "pred = lin_reg.predict(x_new)\n",
    "\n",
    "meanr, train_rmse_err, rse_error_pred, r2_train_error = train_data_computations(lin_reg, x_new,y)\n",
    "#Predicting on train data itself\n",
    "print(\"Poly Linear Regression(degree-2) stats on train data:\")\n",
    "print(\"MEean of target is :\", meanr)\n",
    "print (\"RMSE over train data is: \", train_rmse_err)\n",
    "# bigger R^2 indicate a better fit on data.\n",
    "print(\"Rse is  \\t\\t:%.3f\"%( rse_error_pred))\n",
    "print(\"R^2 is  \\t\\t:%.3f\"%(1-rse_error_pred))"
   ]
  },
  {
   "cell_type": "code",
   "execution_count": 401,
   "metadata": {
    "collapsed": false
   },
   "outputs": [
    {
     "data": {
      "image/png": "[encoded data removed]",
      "text/plain": [
       "<matplotlib.figure.Figure at 0xa9a1988c>"
      ]
     },
     "metadata": {},
     "output_type": "display_data"
    }
   ],
   "source": [
    "# This graph shows the how linear regression fits between both predicted and actual on training data itself.\n",
    "\n",
    "# It tells us how well it has fit the data itself, for sure its not over fitting.\n",
    "# Plot outputs\n",
    "%matplotlib inline\n",
    "pl.plot(pred, y,'ro', alpha = .15)\n",
    "pl.plot([0,70],[0,70], 'b-')\n",
    "pl.xlabel('predicted')\n",
    "pl.ylabel('real')\n",
    "pl.show()"
   ]
  },
  {
   "cell_type": "code",
   "execution_count": 402,
   "metadata": {
    "collapsed": false
   },
   "outputs": [
    {
     "name": "stdout",
     "output_type": "stream",
     "text": [
      "Stats CV10:\n",
      "Method: Polynomial Linear Regression(degree-2)\n",
      "RMSE on training: 9.1824\n",
      "RMSE on 10-fold CV: 9.3747\n",
      "R^2 on CV=10: 0.3476\n"
     ]
    }
   ],
   "source": [
    "# Cross Validation\n",
    "rmse_10cv, rse_10cv, r2_10cv, r2_score = cross_validation_computations(lin_reg, test_kfolds, x, y)\n",
    "method_name = 'Polynomial Linear Regression(degree-2)'\n",
    "print(\"Stats CV10:\")\n",
    "print('Method: %s' %method_name)\n",
    "print('RMSE on training: %.4f' %train_rmse_err)\n",
    "print('RMSE on 10-fold CV: %.4f' %rmse_10cv)\n",
    "#print('RSE on 10-fold CV: %.4f' %rse_10cv)\n",
    "print('R^2 on CV=10: %.4f' %np.mean(r2_score))"
   ]
  },
  {
   "cell_type": "markdown",
   "metadata": {},
   "source": [
    "# Trying Ridge Regression on Polynomial Features Degree 2"
   ]
  },
  {
   "cell_type": "code",
   "execution_count": 403,
   "metadata": {
    "collapsed": false
   },
   "outputs": [
    {
     "name": "stdout",
     "output_type": "stream",
     "text": [
      "Stats for poly ridge(degree-2): over train data\n",
      "MEean of target is : 9.3422459893\n",
      "RMSE is  \t\t:9.313\n",
      "R^2 is  \t\t:0.483\n",
      " \n",
      "Imp Features\n",
      "13.277  Dew_PointF\n",
      "3.319  WindDirDegrees\n",
      "1.266  Wind_SpeedMPH\n",
      "0.000  TemperatureF\n",
      "-0.252  VisibilityMPH\n",
      "-1.265  Humidity\n",
      "-7.558  Sea_Level_PressureIn\n"
     ]
    }
   ],
   "source": [
    "# Creating ridge regression object with a ridge coefficient 0.5\n",
    "ridge_reg = Ridge(fit_intercept=True, alpha=2.712) # alpha from exp in cell below where diff value of alpha tried\n",
    "\n",
    "# Training the model using the training set\n",
    "ridge_reg.fit(x,y)\n",
    "\n",
    "pred = ridge_reg.predict(x)\n",
    "\n",
    "meanr, train_rmse_err, rse_error_pred, r2_train_error = train_data_computations(ridge_reg, x,y)\n",
    "print(\"Stats for poly ridge(degree-2): over train data\")\n",
    "method_name = 'Ridge Regression'\n",
    "print(\"MEean of target is :\", meanr)\n",
    "# bigger R^2 indicate a better fit on data.\n",
    "print(\"RMSE is  \\t\\t:%.3f\"%( train_rmse_err))\n",
    "print(\"R^2 is  \\t\\t:%.3f\"%(1-rse_error_pred))\n",
    "print(\" \")\n",
    "print(\"Imp Features\")\n",
    "prinitng_imp_features(ridge_reg)"
   ]
  },
  {
   "cell_type": "code",
   "execution_count": 404,
   "metadata": {
    "collapsed": false
   },
   "outputs": [
    {
     "name": "stdout",
     "output_type": "stream",
     "text": [
      "Method: Ridge poly Regression(degree-2) CV10\n",
      "RMSE on 10-fold CV: 9.3747\n",
      "R2 score on 10-fold CV: 0.4045\n"
     ]
    }
   ],
   "source": [
    "rmse_cv10, rse_cv10, r2_cv10, r2_scorecv10 = cross_validation_computations(ridge_reg, test_kfolds, x, y)\n",
    "method_name = 'Ridge poly Regression(degree-2) CV10'\n",
    "print('Method: %s' %method_name)\n",
    "print('RMSE on 10-fold CV: %.4f' %rmse_10cv)\n",
    "print('R2 score on 10-fold CV: %.4f' %np.mean(r2_scorecv10))\n",
    "\n"
   ]
  },
  {
   "cell_type": "markdown",
   "metadata": {},
   "source": [
    "#### Ridge Regression over Different Values of Alpha for Polynomial Degree 2"
   ]
  },
  {
   "cell_type": "code",
   "execution_count": 405,
   "metadata": {
    "collapsed": false
   },
   "outputs": [
    {
     "name": "stdout",
     "output_type": "stream",
     "text": [
      "Poly (Degree-2) Ridge Regression\n",
      "alpha\t RMSE_train\t RMSE_10cv\t R2cv10\n",
      "\n",
      "0.010\t 9.2016\t\t 9.3462\t\t 0.379480\n",
      "0.348\t 9.2593\t\t 9.3390\t\t 0.398557\n",
      "0.685\t 9.2713\t\t 9.3645\t\t 0.401282\n",
      "1.023\t 9.2802\t\t 9.3604\t\t 0.402653\n",
      "1.361\t 9.2878\t\t 9.3590\t\t 0.403473\n",
      "1.699\t 9.2947\t\t 9.3701\t\t 0.403977\n",
      "2.036\t 9.3011\t\t 9.3643\t\t 0.404271\n",
      "2.374\t 9.3073\t\t 9.3683\t\t 0.404416\n",
      "2.712\t 9.3133\t\t 9.3656\t\t 0.404451\n",
      "3.049\t 9.3191\t\t 9.3904\t\t 0.404402\n",
      "3.387\t 9.3247\t\t 9.3715\t\t 0.404288\n",
      "3.725\t 9.3301\t\t 9.4047\t\t 0.404125\n",
      "4.062\t 9.3354\t\t 9.4166\t\t 0.403924\n",
      "4.400\t 9.3406\t\t 9.3831\t\t 0.403693\n",
      "4.738\t 9.3456\t\t 9.4059\t\t 0.403440\n",
      "5.076\t 9.3505\t\t 9.4052\t\t 0.403170\n",
      "5.413\t 9.3553\t\t 9.4127\t\t 0.402887\n",
      "5.751\t 9.3599\t\t 9.4387\t\t 0.402596\n",
      "6.089\t 9.3644\t\t 9.4217\t\t 0.402299\n",
      "6.426\t 9.3688\t\t 9.4194\t\t 0.401998\n",
      "6.764\t 9.3731\t\t 9.4149\t\t 0.401695\n",
      "7.102\t 9.3773\t\t 9.4299\t\t 0.401393\n",
      "7.439\t 9.3813\t\t 9.4398\t\t 0.401091\n",
      "7.777\t 9.3853\t\t 9.4403\t\t 0.400792\n",
      "8.115\t 9.3891\t\t 9.4463\t\t 0.400496\n",
      "8.453\t 9.3929\t\t 9.4523\t\t 0.400204\n",
      "8.790\t 9.3965\t\t 9.4538\t\t 0.399916\n",
      "9.128\t 9.4001\t\t 9.4620\t\t 0.399632\n",
      "9.466\t 9.4036\t\t 9.4495\t\t 0.399353\n",
      "9.803\t 9.4070\t\t 9.4556\t\t 0.399080\n",
      "10.141\t 9.4103\t\t 9.4669\t\t 0.398811\n",
      "10.479\t 9.4135\t\t 9.4580\t\t 0.398548\n",
      "10.816\t 9.4166\t\t 9.4793\t\t 0.398291\n",
      "11.154\t 9.4197\t\t 9.4557\t\t 0.398038\n",
      "11.492\t 9.4227\t\t 9.4759\t\t 0.397792\n",
      "11.830\t 9.4257\t\t 9.4811\t\t 0.397550\n",
      "12.167\t 9.4285\t\t 9.4736\t\t 0.397315\n",
      "12.505\t 9.4314\t\t 9.4821\t\t 0.397084\n",
      "12.843\t 9.4341\t\t 9.4863\t\t 0.396859\n",
      "13.180\t 9.4368\t\t 9.4910\t\t 0.396638\n",
      "13.518\t 9.4394\t\t 9.4855\t\t 0.396423\n",
      "13.856\t 9.4420\t\t 9.4911\t\t 0.396213\n",
      "14.194\t 9.4445\t\t 9.4881\t\t 0.396008\n",
      "14.531\t 9.4470\t\t 9.4929\t\t 0.395807\n",
      "14.869\t 9.4494\t\t 9.4885\t\t 0.395611\n",
      "15.207\t 9.4518\t\t 9.4892\t\t 0.395419\n",
      "15.544\t 9.4541\t\t 9.5009\t\t 0.395232\n",
      "15.882\t 9.4564\t\t 9.5147\t\t 0.395049\n",
      "16.220\t 9.4587\t\t 9.5203\t\t 0.394870\n",
      "16.557\t 9.4609\t\t 9.5078\t\t 0.394696\n",
      "16.895\t 9.4630\t\t 9.5205\t\t 0.394525\n",
      "17.233\t 9.4652\t\t 9.5084\t\t 0.394358\n",
      "17.571\t 9.4673\t\t 9.5000\t\t 0.394194\n",
      "17.908\t 9.4693\t\t 9.5231\t\t 0.394035\n",
      "18.246\t 9.4713\t\t 9.5100\t\t 0.393878\n",
      "18.584\t 9.4733\t\t 9.5159\t\t 0.393725\n",
      "18.921\t 9.4753\t\t 9.5266\t\t 0.393576\n",
      "19.259\t 9.4772\t\t 9.5147\t\t 0.393429\n",
      "19.597\t 9.4791\t\t 9.5219\t\t 0.393286\n",
      "19.934\t 9.4809\t\t 9.5205\t\t 0.393145\n",
      "20.272\t 9.4828\t\t 9.5396\t\t 0.393008\n",
      "20.610\t 9.4846\t\t 9.5299\t\t 0.392873\n",
      "20.948\t 9.4863\t\t 9.5195\t\t 0.392741\n",
      "21.285\t 9.4881\t\t 9.5282\t\t 0.392612\n",
      "21.623\t 9.4898\t\t 9.5428\t\t 0.392485\n",
      "21.961\t 9.4915\t\t 9.5423\t\t 0.392360\n",
      "22.298\t 9.4932\t\t 9.5459\t\t 0.392238\n",
      "22.636\t 9.4949\t\t 9.5531\t\t 0.392118\n",
      "22.974\t 9.4965\t\t 9.5420\t\t 0.392001\n",
      "23.311\t 9.4981\t\t 9.5527\t\t 0.391886\n",
      "23.649\t 9.4997\t\t 9.5489\t\t 0.391772\n",
      "23.987\t 9.5013\t\t 9.5444\t\t 0.391661\n",
      "24.325\t 9.5028\t\t 9.5486\t\t 0.391552\n",
      "24.662\t 9.5043\t\t 9.5470\t\t 0.391444\n",
      "25.000\t 9.5058\t\t 9.5557\t\t 0.391339\n"
     ]
    }
   ],
   "source": [
    "print('Poly (Degree-2) Ridge Regression')\n",
    "print('alpha\\t RMSE_train\\t RMSE_10cv\\t R2cv10\\n')\n",
    "\n",
    "#different value of alpha\n",
    "alpha = np.linspace(.01,25,75)\n",
    "rmse_train_ = np.array([])\n",
    "rmse_cv10_ = np.array([])\n",
    "r2_cv10_    = np.array([])\n",
    "rse_cv10_ = np.array([])\n",
    "\n",
    "for a in alpha:\n",
    "    ridge_reg = Ridge(fit_intercept=True, alpha=a)\n",
    "    ridge_reg.fit(x,y)\n",
    "    rmse_cv10, rse_cv10, r2_cv10, r2_scorecv10 = cross_validation_computations(ridge_reg, test_kfolds, x, y)\n",
    "    pred = ridge_reg.predict(x)\n",
    "    err = pred-y\n",
    "    total_error = np.dot(err,err)\n",
    "    rmse_train = np.sqrt(total_error/len(pred))\n",
    "    \n",
    "    rmse_train_ = np.append(rmse_train_, [rmse_train])\n",
    "    rmse_cv10_ = np.append(rmse_cv10_, [rmse_cv10])\n",
    "    rse_cv10_ = np.append(rse_cv10_, [rse_cv10])\n",
    "    r2_cv10_ = np.append(r2_cv10_, [np.mean(r2_scorecv10)])\n",
    "    print('{:.3f}\\t {:.4f}\\t\\t {:.4f}\\t\\t {:.6f}'.format(a,rmse_train,rmse_cv10, np.mean(r2_scorecv10)))"
   ]
  },
  {
   "cell_type": "code",
   "execution_count": 406,
   "metadata": {
    "collapsed": false
   },
   "outputs": [
    {
     "data": {
      "image/png": "[encoded data removed]",
      "text/plain": [
       "<matplotlib.figure.Figure at 0xa97313ec>"
      ]
     },
     "metadata": {},
     "output_type": "display_data"
    }
   ],
   "source": [
    "# Graph for 10 fold validation\n",
    "%matplotlib inline\n",
    "pl.plot(alpha, rmse_train_, label='RMSE-over-Train')\n",
    "pl.plot(alpha, rmse_cv10_, label='RMSE_Val_10fold')\n",
    "pl.legend( ('RMSE-Train', 'RMSE_Val_10fold') )\n",
    "pl.ylabel('RMSE Score')\n",
    "pl.xlabel('Alpha values Ridge')\n",
    "pl.show()"
   ]
  },
  {
   "cell_type": "markdown",
   "metadata": {},
   "source": [
    "# Trying Lasso on Polynomial Features of Degree 2"
   ]
  },
  {
   "cell_type": "code",
   "execution_count": 407,
   "metadata": {
    "collapsed": false,
    "scrolled": true
   },
   "outputs": [
    {
     "name": "stdout",
     "output_type": "stream",
     "text": [
      "Method: Lasso Regression(degree-2)\n",
      "RMSE on training: 10.1130\n",
      "RMSE on 10-fold CV: 10.1263\n",
      "r^2 = :  0.390598645661\n",
      "RMSE on training: 10.1130\n",
      "RMSE on 10-fold CV: 10.1353\n",
      "R2 on 10-fold CV: 0.3126\n"
     ]
    }
   ],
   "source": [
    "# Create Lasso regression object\n",
    "lso = Lasso(alpha = 0.5)\n",
    "\n",
    "# Train the model using the training set\n",
    "lso.fit(x,y)\n",
    "\n",
    "meanr, train_rmse_err, rse_error_pred, r2_train_error = train_data_computations(lso, x,y)\n",
    "\n",
    "# Compute RMSE on training data\n",
    "p = lso.predict(x)\n",
    "err = p-y\n",
    "total_error = np.dot(err,err)\n",
    "rmse_train = np.sqrt(total_error/len(p))\n",
    "\n",
    "# Compute RMSE using 10-fold x-validation\n",
    "kf = KFold(len(x), n_folds=test_kfolds, shuffle=True)\n",
    "xval_err = 0\n",
    "for train,test in kf:\n",
    "    lso.fit(x[train],y[train])\n",
    "    p = lso.predict(x[test])\n",
    "    e = p-y[test]\n",
    "    xval_err += np.dot(e,e)\n",
    "rmse_10cv = np.sqrt(xval_err/len(x))\n",
    "\n",
    "method_name = 'Lasso Regression(degree-2)'\n",
    "print('Method: %s' %method_name)\n",
    "print('RMSE on training: %.4f' %rmse_train)\n",
    "print('RMSE on 10-fold CV: %.4f' %rmse_10cv)\n",
    "print (\"r^2 = : \", r2_train_error)\n",
    "#print ('Regression Coefficients: \\n', lso.coef_)\n",
    "# Important top 10 features in decreasing order of cofficient\n",
    "\n",
    "rmse_cv10, rse_cv10, r2_cv10, r2_scorecv10 = cross_validation_computations(lso, test_kfolds, x, y)\n",
    "\n",
    "print('RMSE on training: %.4f' %rmse_train)\n",
    "print('RMSE on 10-fold CV: %.4f' %rmse_cv10)\n",
    "print('R2 on 10-fold CV: %.4f' %np.mean(r2_scorecv10))"
   ]
  },
  {
   "cell_type": "markdown",
   "metadata": {},
   "source": [
    "### Lasso Regressioin for Different Values of Alpha"
   ]
  },
  {
   "cell_type": "code",
   "execution_count": 408,
   "metadata": {
    "collapsed": false
   },
   "outputs": [
    {
     "name": "stdout",
     "output_type": "stream",
     "text": [
      "Lasso Regression : \n",
      "alpha        RMSE_train        RMSE_10cv        R2cv10\n",
      "\n"
     ]
    },
    {
     "name": "stderr",
     "output_type": "stream",
     "text": [
      "/home/singh/anaconda3/lib/python3.5/site-packages/sklearn/linear_model/coordinate_descent.py:479: ConvergenceWarning: Objective did not converge. You might want to increase the number of iterations. Fitting data with very small alpha may cause precision problems.\n",
      "  ConvergenceWarning)\n",
      "/home/singh/anaconda3/lib/python3.5/site-packages/sklearn/linear_model/coordinate_descent.py:479: ConvergenceWarning: Objective did not converge. You might want to increase the number of iterations. Fitting data with very small alpha may cause precision problems.\n",
      "  ConvergenceWarning)\n",
      "/home/singh/anaconda3/lib/python3.5/site-packages/sklearn/linear_model/coordinate_descent.py:479: ConvergenceWarning: Objective did not converge. You might want to increase the number of iterations. Fitting data with very small alpha may cause precision problems.\n",
      "  ConvergenceWarning)\n"
     ]
    },
    {
     "name": "stdout",
     "output_type": "stream",
     "text": [
      "0.010        9.3052        9.3747        0.403592\n",
      "0.348        9.9282        9.9493        0.342040\n",
      "0.685        10.4201        10.4350        0.256871\n",
      "1.023        11.1862        11.2087        0.096254\n",
      "1.361        12.1930        12.2145        -0.137478\n",
      "1.699        12.9548        12.9635        -0.291003\n",
      "2.036        12.9548        12.9579        -0.291677\n",
      "2.374        12.9548        12.9608        -0.291677\n",
      "2.712        12.9548        12.9643        -0.291677\n",
      "3.049        12.9548        12.9582        -0.291677\n",
      "3.387        12.9548        12.9606        -0.291677\n",
      "3.725        12.9548        12.9564        -0.291677\n",
      "4.062        12.9548        12.9624        -0.291677\n",
      "4.400        12.9548        12.9583        -0.291677\n",
      "4.738        12.9548        12.9580        -0.291677\n",
      "5.076        12.9548        12.9614        -0.291677\n",
      "5.413        12.9548        12.9615        -0.291677\n",
      "5.751        12.9548        12.9642        -0.291677\n",
      "6.089        12.9548        12.9632        -0.291677\n",
      "6.426        12.9548        12.9682        -0.291677\n",
      "6.764        12.9548        12.9601        -0.291677\n",
      "7.102        12.9548        12.9601        -0.291677\n",
      "7.439        12.9548        12.9607        -0.291677\n",
      "7.777        12.9548        12.9642        -0.291677\n",
      "8.115        12.9548        12.9653        -0.291677\n",
      "8.453        12.9548        12.9592        -0.291677\n",
      "8.790        12.9548        12.9582        -0.291677\n",
      "9.128        12.9548        12.9624        -0.291677\n",
      "9.466        12.9548        12.9608        -0.291677\n",
      "9.803        12.9548        12.9590        -0.291677\n",
      "10.141        12.9548        12.9644        -0.291677\n",
      "10.479        12.9548        12.9622        -0.291677\n",
      "10.816        12.9548        12.9655        -0.291677\n",
      "11.154        12.9548        12.9596        -0.291677\n",
      "11.492        12.9548        12.9647        -0.291677\n",
      "11.830        12.9548        12.9618        -0.291677\n",
      "12.167        12.9548        12.9674        -0.291677\n",
      "12.505        12.9548        12.9647        -0.291677\n",
      "12.843        12.9548        12.9621        -0.291677\n",
      "13.180        12.9548        12.9629        -0.291677\n",
      "13.518        12.9548        12.9584        -0.291677\n",
      "13.856        12.9548        12.9587        -0.291677\n",
      "14.194        12.9548        12.9627        -0.291677\n",
      "14.531        12.9548        12.9586        -0.291677\n",
      "14.869        12.9548        12.9573        -0.291677\n",
      "15.207        12.9548        12.9593        -0.291677\n",
      "15.544        12.9548        12.9627        -0.291677\n",
      "15.882        12.9548        12.9578        -0.291677\n",
      "16.220        12.9548        12.9579        -0.291677\n",
      "16.557        12.9548        12.9565        -0.291677\n",
      "16.895        12.9548        12.9608        -0.291677\n",
      "17.233        12.9548        12.9596        -0.291677\n",
      "17.571        12.9548        12.9607        -0.291677\n",
      "17.908        12.9548        12.9683        -0.291677\n",
      "18.246        12.9548        12.9600        -0.291677\n",
      "18.584        12.9548        12.9591        -0.291677\n",
      "18.921        12.9548        12.9588        -0.291677\n",
      "19.259        12.9548        12.9621        -0.291677\n",
      "19.597        12.9548        12.9653        -0.291677\n",
      "19.934        12.9548        12.9622        -0.291677\n",
      "20.272        12.9548        12.9615        -0.291677\n",
      "20.610        12.9548        12.9602        -0.291677\n",
      "20.948        12.9548        12.9569        -0.291677\n",
      "21.285        12.9548        12.9650        -0.291677\n",
      "21.623        12.9548        12.9589        -0.291677\n",
      "21.961        12.9548        12.9615        -0.291677\n",
      "22.298        12.9548        12.9620        -0.291677\n",
      "22.636        12.9548        12.9619        -0.291677\n",
      "22.974        12.9548        12.9613        -0.291677\n",
      "23.311        12.9548        12.9557        -0.291677\n",
      "23.649        12.9548        12.9633        -0.291677\n",
      "23.987        12.9548        12.9594        -0.291677\n",
      "24.325        12.9548        12.9631        -0.291677\n",
      "24.662        12.9548        12.9605        -0.291677\n",
      "25.000        12.9548        12.9583        -0.291677\n"
     ]
    }
   ],
   "source": [
    "print('Lasso Regression : ')\n",
    "print('alpha        RMSE_train        RMSE_10cv        R2cv10\\n')\n",
    "\n",
    "#different value of alpha\n",
    "alpha = np.linspace(.01,25,75)\n",
    "rmse_train_ = np.array([])\n",
    "rmse_cv10_ = np.array([])\n",
    "r2_cv10_    = np.array([])\n",
    "rse_cv10_ = np.array([])\n",
    "\n",
    "for a in alpha:\n",
    "    lso_reg = Lasso(fit_intercept=True, alpha=a)\n",
    "    lso_reg.fit(x,y)\n",
    "    rmse_cv10, rse_cv10, r2_cv10, r2_scorecv10 = cross_validation_computations(lso_reg, test_kfolds, x, y)\n",
    "    pred = lso_reg.predict(x)\n",
    "    err = pred-y\n",
    "    total_error = np.dot(err,err)\n",
    "    rmse_train = np.sqrt(total_error/len(pred))\n",
    "    \n",
    "    rmse_train_ = np.append(rmse_train_, [rmse_train])\n",
    "    rmse_cv10_ = np.append(rmse_cv10_, [rmse_cv10])\n",
    "    rse_cv10_ = np.append(rse_cv10_, [rse_cv10])\n",
    "    r2_cv10_ = np.append(r2_cv10_, [np.mean(r2_scorecv10)])\n",
    "    print('{:.3f}        {:.4f}        {:.4f}        {:.6f}'.format(a,rmse_train,rmse_cv10, np.mean(r2_scorecv10)))"
   ]
  },
  {
   "cell_type": "code",
   "execution_count": 409,
   "metadata": {
    "collapsed": false
   },
   "outputs": [
    {
     "data": {
      "image/png": "[encoded data removed]",
      "text/plain": [
       "<matplotlib.figure.Figure at 0xa99aedec>"
      ]
     },
     "metadata": {},
     "output_type": "display_data"
    }
   ],
   "source": [
    "# Graph for 10 fold validation\n",
    "%matplotlib inline\n",
    "pl.plot(alpha, rmse_train_, label='RMSE-over-Train')\n",
    "pl.plot(alpha, rmse_cv10_, label='RMSE_Val_10fold')\n",
    "pl.legend( ('RMSE-Train', 'RMSE_Val_10fold') )\n",
    "pl.ylabel('RMSE Score')\n",
    "pl.xlabel('Alpha values Ridge')\n",
    "pl.show()"
   ]
  },
  {
   "cell_type": "markdown",
   "metadata": {},
   "source": [
    "# Creating a Polynomial Regression of degree 3"
   ]
  },
  {
   "cell_type": "code",
   "execution_count": 410,
   "metadata": {
    "collapsed": false
   },
   "outputs": [],
   "source": [
    "poly = PolynomialFeatures(degree=3)\n",
    "x_new = poly.fit_transform(x_old)"
   ]
  },
  {
   "cell_type": "code",
   "execution_count": 411,
   "metadata": {
    "collapsed": false
   },
   "outputs": [
    {
     "name": "stdout",
     "output_type": "stream",
     "text": [
      "Polynomial Degree 3 Data Shape =  (2057, 165)\n"
     ]
    }
   ],
   "source": [
    "#print(\"Original Data Shape = \", x.shape)\n",
    "print(\"Polynomial Degree 3 Data Shape = \", x_new.shape)"
   ]
  },
  {
   "cell_type": "markdown",
   "metadata": {},
   "source": [
    "# Trying Linear Regression over Polynomial Features of Degree 3"
   ]
  },
  {
   "cell_type": "code",
   "execution_count": 412,
   "metadata": {
    "collapsed": false
   },
   "outputs": [
    {
     "name": "stdout",
     "output_type": "stream",
     "text": [
      "Ploy Linear Regression degree-3 stats on train data:\n",
      "MEean of target is : 9.3422459893\n",
      "RMSE over train data is:  8.780000924\n",
      "Rse is  \t\t:0.459\n",
      "R^2 is  \t\t:0.541\n"
     ]
    }
   ],
   "source": [
    "#Linear regression object\n",
    "x=x_new\n",
    "\n",
    "lin_reg = LinearRegression()\n",
    "\n",
    "#Trying to fit Linear regression object on whole data\n",
    "#lin_reg.fit(x,y)\n",
    "lin_reg.fit(x_new, y)\n",
    "pred = lin_reg.predict(x_new)\n",
    "\n",
    "meanr, train_rmse_err, rse_error_pred, r2_train_error = train_data_computations(lin_reg, x_new,y)\n",
    "\n",
    "#Predicting on train data itself\n",
    "print(\"Ploy Linear Regression degree-3 stats on train data:\")\n",
    "print(\"MEean of target is :\", meanr)\n",
    "print (\"RMSE over train data is: \", train_rmse_err)\n",
    "# Important features in decreasing order of cofficient\n",
    "\n",
    "# bigger R^2 indicate a better fit on data.\n",
    "print(\"Rse is  \\t\\t:%.3f\"%( rse_error_pred))\n",
    "print(\"R^2 is  \\t\\t:%.3f\"%(1-rse_error_pred))\n"
   ]
  },
  {
   "cell_type": "code",
   "execution_count": 413,
   "metadata": {
    "collapsed": false
   },
   "outputs": [
    {
     "data": {
      "image/png": "[encoded data removed]",
      "text/plain": [
       "<matplotlib.figure.Figure at 0xa99c70cc>"
      ]
     },
     "metadata": {},
     "output_type": "display_data"
    }
   ],
   "source": [
    "# This graph shows the how linear regression fits between both predicted and actual on training data itself.\n",
    "\n",
    "# It tells us how well it has fit the data itself\n",
    "# Plot outputs\n",
    "%matplotlib inline\n",
    "pl.plot(pred, y,'ro', alpha = .15)\n",
    "pl.plot([0,70],[0,70], 'b-')\n",
    "pl.xlabel('predicted')\n",
    "pl.ylabel('real')\n",
    "pl.show()"
   ]
  },
  {
   "cell_type": "code",
   "execution_count": 414,
   "metadata": {
    "collapsed": false
   },
   "outputs": [
    {
     "name": "stdout",
     "output_type": "stream",
     "text": [
      "Stats CV10:\n",
      "Method: Polynomial Linear Regression(degree-3)\n",
      "RMSE on training: 8.7800\n",
      "RMSE on 10-fold CV: 10.0233\n",
      "R^2 on CV=10: -0.5243\n"
     ]
    }
   ],
   "source": [
    "rmse_10cv, rse_10cv, r2_10cv, r2_score = cross_validation_computations(lin_reg, test_kfolds, x, y)\n",
    "method_name = 'Polynomial Linear Regression(degree-3)'\n",
    "print(\"Stats CV10:\")\n",
    "print('Method: %s' %method_name)\n",
    "print('RMSE on training: %.4f' %train_rmse_err)\n",
    "print('RMSE on 10-fold CV: %.4f' %rmse_10cv)\n",
    "print('R^2 on CV=10: %.4f' %np.mean(r2_score))"
   ]
  },
  {
   "cell_type": "markdown",
   "metadata": {},
   "source": [
    "# Trying Ridge Regression on Polynomial Features of Degree 3"
   ]
  },
  {
   "cell_type": "code",
   "execution_count": 415,
   "metadata": {
    "collapsed": false
   },
   "outputs": [
    {
     "name": "stdout",
     "output_type": "stream",
     "text": [
      "Stats for poly ridge degree-3: over train data\n",
      "MEean of target is : 9.3422459893\n",
      "RMSE of target is : 9.1249131893\n",
      "Rse is  \t\t:0.496\n",
      "R^2 is  \t\t:0.504\n"
     ]
    }
   ],
   "source": [
    "# Creating ridge regression object with a ridge coefficient 0.5\n",
    "ridge_reg = Ridge(fit_intercept=True, alpha=0.5)\n",
    "\n",
    "# Training the model using the training set\n",
    "ridge_reg.fit(x,y)\n",
    "\n",
    "pred = ridge_reg.predict(x)\n",
    "\n",
    "# Computing RMSE on training data for ridge regression\n",
    "meanr, train_rmse_err, rse_error_pred, r2_train_error = train_data_computations(ridge_reg, x,y)\n",
    "print(\"Stats for poly ridge degree-3: over train data\")\n",
    "method_name = 'Ridge Regression'\n",
    "print(\"MEean of target is :\", meanr)\n",
    "print(\"RMSE of target is :\", train_rmse_err)\n",
    "\n",
    "# bigger R^2 indicate a better fit on data.\n",
    "print(\"Rse is  \\t\\t:%.3f\"%( rse_error_pred))\n",
    "print(\"R^2 is  \\t\\t:%.3f\"%(1-rse_error_pred))\n"
   ]
  },
  {
   "cell_type": "code",
   "execution_count": 416,
   "metadata": {
    "collapsed": false
   },
   "outputs": [
    {
     "name": "stdout",
     "output_type": "stream",
     "text": [
      "Method: Ridge poly Regression degree-3 CV10\n",
      "RMSE on 10-fold CV: 10.0233\n",
      "R2 score on 10-fold CV: 0.3952\n"
     ]
    }
   ],
   "source": [
    "rmse_cv10, rse_cv10, r2_cv10, r2_scorecv10 = cross_validation_computations(ridge_reg, test_kfolds, x, y)\n",
    "method_name = 'Ridge poly Regression degree-3 CV10'\n",
    "print('Method: %s' %method_name)\n",
    "print('RMSE on 10-fold CV: %.4f' %rmse_10cv)\n",
    "print('R2 score on 10-fold CV: %.4f' %np.mean(r2_scorecv10))"
   ]
  },
  {
   "cell_type": "code",
   "execution_count": 417,
   "metadata": {
    "collapsed": false
   },
   "outputs": [
    {
     "name": "stdout",
     "output_type": "stream",
     "text": [
      "Ridge Regression(degree-3)\n",
      "alpha\t RMSE_train\t RMSE_10cv\t R2cv10\n",
      "\n",
      "0.010\t 8.9331\t\t 9.1919\t\t 0.205714\n",
      "0.651\t 9.1436\t\t 9.2630\t\t 0.397063\n",
      "1.292\t 9.1915\t\t 9.3026\t\t 0.399541\n",
      "1.932\t 9.2177\t\t 9.3173\t\t 0.400108\n",
      "2.573\t 9.2351\t\t 9.3230\t\t 0.400341\n",
      "3.214\t 9.2479\t\t 9.3480\t\t 0.400477\n",
      "3.855\t 9.2580\t\t 9.3419\t\t 0.400573\n",
      "4.495\t 9.2665\t\t 9.3611\t\t 0.400645\n",
      "5.136\t 9.2737\t\t 9.3558\t\t 0.400698\n",
      "5.777\t 9.2802\t\t 9.3529\t\t 0.400735\n",
      "6.418\t 9.2859\t\t 9.3582\t\t 0.400758\n",
      "7.058\t 9.2912\t\t 9.3787\t\t 0.400766\n",
      "7.699\t 9.2962\t\t 9.3680\t\t 0.400761\n",
      "8.340\t 9.3008\t\t 9.3842\t\t 0.400744\n",
      "8.981\t 9.3052\t\t 9.3864\t\t 0.400715\n",
      "9.622\t 9.3094\t\t 9.3739\t\t 0.400676\n",
      "10.262\t 9.3134\t\t 9.3876\t\t 0.400626\n",
      "10.903\t 9.3172\t\t 9.4177\t\t 0.400567\n",
      "11.544\t 9.3209\t\t 9.3736\t\t 0.400499\n",
      "12.185\t 9.3246\t\t 9.3875\t\t 0.400423\n",
      "12.825\t 9.3281\t\t 9.3986\t\t 0.400339\n",
      "13.466\t 9.3315\t\t 9.3972\t\t 0.400249\n",
      "14.107\t 9.3348\t\t 9.4079\t\t 0.400152\n",
      "14.748\t 9.3381\t\t 9.4076\t\t 0.400049\n",
      "15.388\t 9.3413\t\t 9.4154\t\t 0.399940\n",
      "16.029\t 9.3445\t\t 9.4014\t\t 0.399827\n",
      "16.670\t 9.3476\t\t 9.4139\t\t 0.399709\n",
      "17.311\t 9.3506\t\t 9.4249\t\t 0.399587\n",
      "17.952\t 9.3536\t\t 9.4081\t\t 0.399461\n",
      "18.592\t 9.3565\t\t 9.4263\t\t 0.399332\n",
      "19.233\t 9.3594\t\t 9.4249\t\t 0.399200\n",
      "19.874\t 9.3622\t\t 9.4382\t\t 0.399064\n",
      "20.515\t 9.3651\t\t 9.4226\t\t 0.398927\n",
      "21.155\t 9.3678\t\t 9.4224\t\t 0.398787\n",
      "21.796\t 9.3705\t\t 9.4379\t\t 0.398645\n",
      "22.437\t 9.3732\t\t 9.4724\t\t 0.398501\n",
      "23.078\t 9.3759\t\t 9.4290\t\t 0.398355\n",
      "23.718\t 9.3785\t\t 9.4355\t\t 0.398208\n",
      "24.359\t 9.3811\t\t 9.4397\t\t 0.398060\n",
      "25.000\t 9.3836\t\t 9.4528\t\t 0.397911\n"
     ]
    }
   ],
   "source": [
    "print('Ridge Regression(degree-3)')\n",
    "print('alpha\\t RMSE_train\\t RMSE_10cv\\t R2cv10\\n')\n",
    "\n",
    "#different value of alpha\n",
    "alpha = np.linspace(.01,25,40)\n",
    "rmse_train_ = np.array([])\n",
    "rmse_cv10_ = np.array([])\n",
    "r2_cv10_    = np.array([])\n",
    "rse_cv10_ = np.array([])\n",
    "\n",
    "for a in alpha:\n",
    "    ridge_reg = Ridge(fit_intercept=True, alpha=a)\n",
    "    ridge_reg.fit(x,y)\n",
    "    rmse_cv10, rse_cv10, r2_cv10, r2_scorecv10 = cross_validation_computations(ridge_reg, test_kfolds, x, y)\n",
    "    pred = ridge_reg.predict(x)\n",
    "    err = pred-y\n",
    "    total_error = np.dot(err,err)\n",
    "    rmse_train = np.sqrt(total_error/len(pred))\n",
    "    \n",
    "    rmse_train_ = np.append(rmse_train_, [rmse_train])\n",
    "    rmse_cv10_ = np.append(rmse_cv10_, [rmse_cv10])\n",
    "    rse_cv10_ = np.append(rse_cv10_, [rse_cv10])\n",
    "    r2_cv10_ = np.append(r2_cv10_, [np.mean(r2_scorecv10)])\n",
    "    print('{:.3f}\\t {:.4f}\\t\\t {:.4f}\\t\\t {:.6f}'.format(a,rmse_train,rmse_cv10, np.mean(r2_scorecv10)))"
   ]
  },
  {
   "cell_type": "code",
   "execution_count": 418,
   "metadata": {
    "collapsed": false
   },
   "outputs": [
    {
     "data": {
      "image/png": "[encoded data removed]",
      "text/plain": [
       "<matplotlib.figure.Figure at 0xadb1b2cc>"
      ]
     },
     "metadata": {},
     "output_type": "display_data"
    }
   ],
   "source": [
    "# Graph for 10 fold validation\n",
    "%matplotlib inline\n",
    "pl.plot(alpha, rmse_train_, label='RMSE-over-Train')\n",
    "pl.plot(alpha, rmse_cv10_, label='RMSE_Val_10fold')\n",
    "pl.legend( ('RMSE-Train', 'RMSE_Val_10fold') )\n",
    "pl.ylabel('RMSE Score')\n",
    "pl.xlabel('Alpha values Ridge')\n",
    "pl.show()"
   ]
  },
  {
   "cell_type": "markdown",
   "metadata": {},
   "source": [
    "# Trying Lasso on Polynomial Features of Degree 3"
   ]
  },
  {
   "cell_type": "code",
   "execution_count": 419,
   "metadata": {
    "collapsed": false
   },
   "outputs": [
    {
     "name": "stdout",
     "output_type": "stream",
     "text": [
      "Method: Lasso Regression degree-3\n",
      "RMSE on training: 10.1130\n",
      "RMSE on 10-fold CV: 10.1407\n",
      "R^2 on Training: 0.3906\n",
      "RMSE on training: 10.1130\n",
      "RMSE on 10-fold CV: 10.1320\n",
      "R2 on 10-fold CV: 0.3126\n"
     ]
    }
   ],
   "source": [
    "# Create lasso regression object with a lso\n",
    "lso = Lasso(alpha = 0.5)\n",
    "\n",
    "# Train the model using the training set\n",
    "lso.fit(x,y)\n",
    "\n",
    "# Compute RMSE on training data\n",
    "p = lso.predict(x)\n",
    "err = p-y\n",
    "total_error = np.dot(err,err)\n",
    "rmse_train = np.sqrt(total_error/len(p))\n",
    "\n",
    "meanr, train_rmse_err, rse_error_pred, r2_train_error = train_data_computations(lso, x,y)\n",
    "\n",
    "# Compute RMSE using 10-fold x-validation\n",
    "kf = KFold(len(x), n_folds=test_kfolds, shuffle=True)\n",
    "xval_err = 0\n",
    "for train,test in kf:\n",
    "    lso.fit(x[train],y[train])\n",
    "    p = lso.predict(x[test])\n",
    "    e = p-y[test]\n",
    "    xval_err += np.dot(e,e)\n",
    "rmse_10cv = np.sqrt(xval_err/len(x))\n",
    "\n",
    "method_name = 'Lasso Regression degree-3'\n",
    "print('Method: %s' %method_name)\n",
    "print('RMSE on training: %.4f' %rmse_train)\n",
    "print('RMSE on 10-fold CV: %.4f' %rmse_10cv)\n",
    "print('R^2 on Training: %.4f' %r2_train_error)\n",
    "#print ('Regression Coefficients: \\n', lso.coef_)\n",
    "\n",
    "rmse_cv10, rse_cv10, r2_cv10, r2_scorecv10 = cross_validation_computations(lso, test_kfolds, x, y)\n",
    "print('RMSE on training: %.4f' %rmse_train)\n",
    "print('RMSE on 10-fold CV: %.4f' %rmse_cv10)\n",
    "print('R2 on 10-fold CV: %.4f' %np.mean(r2_scorecv10))"
   ]
  },
  {
   "cell_type": "markdown",
   "metadata": {},
   "source": [
    "### Lasso for different value of alpha, polynomial degree-3"
   ]
  },
  {
   "cell_type": "code",
   "execution_count": 420,
   "metadata": {
    "collapsed": false
   },
   "outputs": [
    {
     "name": "stdout",
     "output_type": "stream",
     "text": [
      "Lasso Regression : \n",
      "alpha        RMSE_train        RMSE_10cv        R2cv10\n",
      "\n"
     ]
    },
    {
     "name": "stderr",
     "output_type": "stream",
     "text": [
      "/home/singh/anaconda3/lib/python3.5/site-packages/sklearn/linear_model/coordinate_descent.py:479: ConvergenceWarning: Objective did not converge. You might want to increase the number of iterations. Fitting data with very small alpha may cause precision problems.\n",
      "  ConvergenceWarning)\n",
      "/home/singh/anaconda3/lib/python3.5/site-packages/sklearn/linear_model/coordinate_descent.py:479: ConvergenceWarning: Objective did not converge. You might want to increase the number of iterations. Fitting data with very small alpha may cause precision problems.\n",
      "  ConvergenceWarning)\n",
      "/home/singh/anaconda3/lib/python3.5/site-packages/sklearn/linear_model/coordinate_descent.py:479: ConvergenceWarning: Objective did not converge. You might want to increase the number of iterations. Fitting data with very small alpha may cause precision problems.\n",
      "  ConvergenceWarning)\n",
      "/home/singh/anaconda3/lib/python3.5/site-packages/sklearn/linear_model/coordinate_descent.py:479: ConvergenceWarning: Objective did not converge. You might want to increase the number of iterations. Fitting data with very small alpha may cause precision problems.\n",
      "  ConvergenceWarning)\n"
     ]
    },
    {
     "name": "stdout",
     "output_type": "stream",
     "text": [
      "0.010        9.2749        9.3450        0.402971\n",
      "0.651        10.3562        10.3683        0.268945\n",
      "1.292        11.9645        11.9901        -0.083120\n",
      "1.932        12.9548        12.9602        -0.291677\n",
      "2.573        12.9548        12.9646        -0.291677\n",
      "3.214        12.9548        12.9717        -0.291677\n",
      "3.855        12.9548        12.9650        -0.291677\n",
      "4.495        12.9548        12.9641        -0.291677\n",
      "5.136        12.9548        12.9650        -0.291677\n",
      "5.777        12.9548        12.9656        -0.291677\n",
      "6.418        12.9548        12.9633        -0.291677\n",
      "7.058        12.9548        12.9663        -0.291677\n",
      "7.699        12.9548        12.9698        -0.291677\n",
      "8.340        12.9548        12.9664        -0.291677\n",
      "8.981        12.9548        12.9569        -0.291677\n",
      "9.622        12.9548        12.9589        -0.291677\n",
      "10.262        12.9548        12.9611        -0.291677\n",
      "10.903        12.9548        12.9617        -0.291677\n",
      "11.544        12.9548        12.9594        -0.291677\n",
      "12.185        12.9548        12.9609        -0.291677\n",
      "12.825        12.9548        12.9593        -0.291677\n",
      "13.466        12.9548        12.9675        -0.291677\n",
      "14.107        12.9548        12.9577        -0.291677\n",
      "14.748        12.9548        12.9605        -0.291677\n",
      "15.388        12.9548        12.9648        -0.291677\n",
      "16.029        12.9548        12.9599        -0.291677\n",
      "16.670        12.9548        12.9621        -0.291677\n",
      "17.311        12.9548        12.9579        -0.291677\n",
      "17.952        12.9548        12.9582        -0.291677\n",
      "18.592        12.9548        12.9592        -0.291677\n",
      "19.233        12.9548        12.9591        -0.291677\n",
      "19.874        12.9548        12.9648        -0.291677\n",
      "20.515        12.9548        12.9612        -0.291677\n",
      "21.155        12.9548        12.9600        -0.291677\n",
      "21.796        12.9548        12.9628        -0.291677\n",
      "22.437        12.9548        12.9617        -0.291677\n",
      "23.078        12.9548        12.9593        -0.291677\n",
      "23.718        12.9548        12.9616        -0.291677\n",
      "24.359        12.9548        12.9567        -0.291677\n",
      "25.000        12.9548        12.9600        -0.291677\n"
     ]
    }
   ],
   "source": [
    "print('Lasso Regression : ')\n",
    "print('alpha        RMSE_train        RMSE_10cv        R2cv10\\n')\n",
    "\n",
    "#different value of alpha\n",
    "alpha = np.linspace(.01,25,40)\n",
    "rmse_train_ = np.array([])\n",
    "rmse_cv10_ = np.array([])\n",
    "r2_cv10_    = np.array([])\n",
    "rse_cv10_ = np.array([])\n",
    "\n",
    "for a in alpha:\n",
    "    lso_reg = Lasso(fit_intercept=True, alpha=a)\n",
    "    lso_reg.fit(x,y)\n",
    "    rmse_cv10, rse_cv10, r2_cv10, r2_scorecv10 = cross_validation_computations(lso_reg, test_kfolds, x, y)\n",
    "    pred = lso_reg.predict(x)\n",
    "    err = pred-y\n",
    "    total_error = np.dot(err,err)\n",
    "    rmse_train = np.sqrt(total_error/len(pred))\n",
    "    \n",
    "    rmse_train_ = np.append(rmse_train_, [rmse_train])\n",
    "    rmse_cv10_ = np.append(rmse_cv10_, [rmse_cv10])\n",
    "    rse_cv10_ = np.append(rse_cv10_, [rse_cv10])\n",
    "    r2_cv10_ = np.append(r2_cv10_, [np.mean(r2_scorecv10)])\n",
    "    print('{:.3f}        {:.4f}        {:.4f}        {:.6f}'.format(a,rmse_train,rmse_cv10, np.mean(r2_scorecv10)))"
   ]
  },
  {
   "cell_type": "code",
   "execution_count": 421,
   "metadata": {
    "collapsed": false
   },
   "outputs": [
    {
     "data": {
      "image/png": "[encoded data removed]",
      "text/plain": [
       "<matplotlib.figure.Figure at 0xa98f1d4c>"
      ]
     },
     "metadata": {},
     "output_type": "display_data"
    }
   ],
   "source": [
    "# Graph for 10 fold validation\n",
    "%matplotlib inline\n",
    "pl.plot(alpha, rmse_train_, label='RMSE-over-Train')\n",
    "pl.plot(alpha, rmse_cv10_, label='RMSE_Val_10fold')\n",
    "pl.legend( ('RMSE-Train', 'RMSE_Val_10fold') )\n",
    "pl.ylabel('RMSE Score')\n",
    "pl.xlabel('Alpha values Ridge')\n",
    "pl.show()"
   ]
  },
  {
   "cell_type": "markdown",
   "metadata": {
    "collapsed": true
   },
   "source": [
    "# Best Model Performance Summary : (Continuous Features)\n",
    "\n",
    "#### Best Model : Ridge Regression polynomial degree 2, for alpha = 2.712\n",
    "\n",
    "#### Table for RMSE:\n",
    "\n",
    "|Model|     Baseline(Mean)    |     Baseline(Median)    |   Best model   |\n",
    "|-----|-----------------------|-------------------------|----------------|\n",
    "|Train|     12.954            |       14.423            |    9.3133      |\n",
    "|CV10 |     12.957            |       14.424            |    9.3802      |\n",
    "\n",
    "\n",
    "#### Table for R2 Score\n",
    "\n",
    "|Model|     Baseline(Mean)    |     Baseline(Median)    |   Best model   |\n",
    "|-----|-----------------------|-------------------------|----------------|\n",
    "|Train|        0              |       -.240             |     0.400      |\n",
    "|CV10 |       -.292           |       -.302             |     0.404      |\n",
    "\n",
    "\n",
    "\n",
    "### Important Features :\n",
    "|Coefficient|     Feature Name    |\n",
    "|-----------|---------------------|\n",
    "|13.277     |Dew_PointF           |\n",
    "|3.319      |WindDirDegrees       |\n",
    "|1.266      |Wind_SpeedMPH        |\n",
    "|0.000      |TemperatureF         |\n",
    "|-0.252     |VisibilityMPH        |\n",
    "|-1.265     |Humidity             |\n",
    "|-7.558     |Sea_Level_PressureIn |"
   ]
  },
  {
   "cell_type": "code",
   "execution_count": null,
   "metadata": {
    "collapsed": true
   },
   "outputs": [],
   "source": []
  }
 ],
 "metadata": {
  "anaconda-cloud": {},
  "kernelspec": {
   "display_name": "Python [Root]",
   "language": "python",
   "name": "Python [Root]"
  },
  "language_info": {
   "codemirror_mode": {
    "name": "ipython",
    "version": 3
   },
   "file_extension": ".py",
   "mimetype": "text/x-python",
   "name": "python",
   "nbconvert_exporter": "python",
   "pygments_lexer": "ipython3",
   "version": "3.5.2"
  }
 },
 "nbformat": 4,
 "nbformat_minor": 0
}
