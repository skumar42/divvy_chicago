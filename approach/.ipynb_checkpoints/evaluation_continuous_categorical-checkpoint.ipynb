{
 "cells": [
  {
   "cell_type": "markdown",
   "metadata": {},
   "source": [
    "# Continuous and Categorical Features Evaluation Report"
   ]
  },
  {
   "cell_type": "code",
   "execution_count": 1,
   "metadata": {
    "collapsed": false
   },
   "outputs": [
    {
     "name": "stderr",
     "output_type": "stream",
     "text": [
      "/home/singh/anaconda3/lib/python3.5/site-packages/sklearn/cross_validation.py:44: DeprecationWarning: This module was deprecated in version 0.18 in favor of the model_selection module into which all the refactored classes and functions are moved. Also note that the interface of the new CV iterators are different from that of this module. This module will be removed in 0.20.\n",
      "  \"This module will be removed in 0.20.\", DeprecationWarning)\n"
     ]
    }
   ],
   "source": [
    "# Imports\n",
    "from sklearn.cross_validation import KFold\n",
    "from sklearn.preprocessing import PolynomialFeatures\n",
    "from sklearn.linear_model import LinearRegression, Lasso, Ridge\n",
    "import sklearn.metrics \n",
    "from sklearn.model_selection import cross_val_score\n",
    "from sklearn.dummy import DummyRegressor\n",
    "from sklearn.metrics import mean_squared_error\n",
    "\n",
    "import numpy as np\n",
    "import pylab as pl\n",
    "import csv\n"
   ]
  },
  {
   "cell_type": "code",
   "execution_count": 2,
   "metadata": {
    "collapsed": false
   },
   "outputs": [],
   "source": [
    "# taken and modified from sklearn to load csv in scikit learn standard format\n",
    "class Bunch(dict):\n",
    "\n",
    "    def __init__(self, **kwargs):\n",
    "        super(Bunch, self).__init__(kwargs)\n",
    "\n",
    "    def __setattr__(self, key, value):\n",
    "        self[key] = value\n",
    "\n",
    "    def __dir__(self):\n",
    "        return self.keys()\n",
    "\n",
    "    def __getattr__(self, key):\n",
    "        try:\n",
    "            return self[key]\n",
    "        except KeyError:\n",
    "            raise AttributeError(key)\n",
    "\n",
    "    def __setstate__(self, state):\n",
    "        pass\n",
    "\n",
    "cont_infile_name = '../data/preprocessed_divvy_weather/evaluation_continuous_categorical.csv'\n",
    "\n",
    "def load_divydata(return_X_y=False):  \n",
    "    with open(cont_infile_name) as f:\n",
    "        data_file = csv.reader(f)\n",
    "        temp = next(data_file)\n",
    "        n_samples = int(temp[0])\n",
    "        n_features = int(temp[1])\n",
    "        data = np.empty((n_samples, n_features))\n",
    "        target = np.empty((n_samples,))\n",
    "        temp = next(data_file)\n",
    "        feature_names = np.array(temp)\n",
    "\n",
    "        for i, d in enumerate(data_file):\n",
    "            data[i] = np.asarray(d[:-1], dtype=np.float64)\n",
    "            target[i] = np.asarray(d[-1], dtype=np.float64)\n",
    "\n",
    "    if return_X_y:\n",
    "        return data, target\n",
    "\n",
    "    return Bunch(data=data,\n",
    "                 target=target,\n",
    "                 feature_names=feature_names[:-1])"
   ]
  },
  {
   "cell_type": "code",
   "execution_count": 3,
   "metadata": {
    "collapsed": false
   },
   "outputs": [
    {
     "name": "stdout",
     "output_type": "stream",
     "text": [
      "['TemperatureF' 'Dew_PointF' 'Humidity' 'Sea_Level_PressureIn'\n",
      " 'VisibilityMPH' 'Wind_SpeedMPH' 'WindDirDegrees' 'Event_Fog'\n",
      " 'Event_Normal' 'Event_Rain' 'Event_Rain_Hail_Thunderstorm'\n",
      " 'Event_Rain_Snow' 'Event_Rain_Thunderstorm' 'Event_Snow'\n",
      " 'Event_Thunderstorm' 'Conditions_Clear' 'Conditions_Fog' 'Conditions_Haze'\n",
      " 'Conditions_Heavy_Rain' 'Conditions_Heavy_Thunderstorms_and_Rain'\n",
      " 'Conditions_Light_Drizzle' 'Conditions_Light_Rain' 'Conditions_Light_Snow'\n",
      " 'Conditions_Light_Thunderstorms_and_Rain' 'Conditions_Mostly_Cloudy'\n",
      " 'Conditions_Overcast' 'Conditions_Partly_Cloudy' 'Conditions_Rain'\n",
      " 'Conditions_Scattered_Clouds' 'Conditions_Shallow_Fog'\n",
      " 'Conditions_Thunderstorm' 'Conditions_Thunderstorms_and_Rain'\n",
      " 'Conditions_Unknown' 'Wind_Direction_Calm' 'Wind_Direction_ENE'\n",
      " 'Wind_Direction_ESE' 'Wind_Direction_East' 'Wind_Direction_NE'\n",
      " 'Wind_Direction_NNE' 'Wind_Direction_NNW' 'Wind_Direction_NW'\n",
      " 'Wind_Direction_North' 'Wind_Direction_SE' 'Wind_Direction_SSE'\n",
      " 'Wind_Direction_SSW' 'Wind_Direction_SW' 'Wind_Direction_South'\n",
      " 'Wind_Direction_Variable' 'Wind_Direction_WNW' 'Wind_Direction_WSW'\n",
      " 'Wind_Direction_West']\n"
     ]
    }
   ],
   "source": [
    "# Load data set\n",
    "divy = load_divydata()\n",
    "print (divy.feature_names)"
   ]
  },
  {
   "cell_type": "code",
   "execution_count": 4,
   "metadata": {
    "collapsed": false
   },
   "outputs": [
    {
     "name": "stdout",
     "output_type": "stream",
     "text": [
      "Divy Data Shape:\n",
      "Instances:  2057\n",
      "Features:  51\n"
     ]
    }
   ],
   "source": [
    "#Printing data shape features and instances.\n",
    "data_shape = divy.data.shape\n",
    "print(\"Divy Data Shape:\")\n",
    "print(\"Instances: \",data_shape[0])\n",
    "print(\"Features: \",data_shape[1])"
   ]
  },
  {
   "cell_type": "markdown",
   "metadata": {
    "collapsed": false
   },
   "source": [
    "# Performance Indicators"
   ]
  },
  {
   "cell_type": "markdown",
   "metadata": {},
   "source": [
    "### We are using root square error, RMSE and R2 score as our performance measure for regression. \n",
    "Our trained model must work better then predicting mean. If we are only predicting near to mean then its almost similar in classification that one is predicting the mode class.\n",
    "R^2 is coefficient of deteremination. \n",
    "R^2 = 1-RSE. bigger the R^2 means better the model is.\n",
    "If RSE is closer to 1, it means our performance is only comparable to predicting the mean, it is a bad trained model.\n",
    "If RSE is closer to zero, this indicates a better fit on data.\n",
    "\n",
    "y:  True Function\n",
    "\n",
    "g:  Estimated Function\n",
    "\n",
    "u: Mean of True Function\n",
    "\n",
    "$$RSE=\\sum_{i=0}^\\infty \\frac{(y - g)^2}{(y - u)^2}$$\n",
    "\n",
    "One problem with the R2 as a measure of model validity is that, it can always be increased by adding more variables into the model, except in the unlikely event that the additional variables are exactly uncorrelated with the dependent variable in the data sample being used.\n",
    "\n",
    "Outliers may also give a distorted value of R^2."
   ]
  },
  {
   "cell_type": "code",
   "execution_count": 5,
   "metadata": {
    "collapsed": true
   },
   "outputs": [],
   "source": [
    "# Setting print format\n",
    "np.set_printoptions(precision=2, linewidth=120, suppress=True, edgeitems=4)"
   ]
  },
  {
   "cell_type": "code",
   "execution_count": 6,
   "metadata": {
    "collapsed": true
   },
   "outputs": [],
   "source": [
    "# Adding Bias term x0 in data set.\n",
    "x = np.array([np.concatenate((v,[1])) for v in divy.data])"
   ]
  },
  {
   "cell_type": "code",
   "execution_count": 7,
   "metadata": {
    "collapsed": false
   },
   "outputs": [],
   "source": [
    "# Assign target data to target variable y\n",
    "y = divy.target"
   ]
  },
  {
   "cell_type": "code",
   "execution_count": 8,
   "metadata": {
    "collapsed": true
   },
   "outputs": [],
   "source": [
    "# Helper functions:\n",
    "# Function to take log of target variable, linear regression sometimes predict -ve values, \n",
    "# Keeping target variable on log scale avoids it.\n",
    "# Below are some fuctions to alter target and prediction on a different scale to avoid this problem.\n",
    "# Other utility functions\n",
    "\n",
    "# target variable to log scale\n",
    "def target_to_ln(y):\n",
    "    neg_inf = .001\n",
    "    tmp_t = []\n",
    "    for t in y:\n",
    "        if 0==t:\n",
    "            tmp_t.append(neg_inf)\n",
    "        else:\n",
    "            tmp_t.append(np.log(t))\n",
    "    return tmp_t\n",
    "\n",
    "# Rescaling of predictions from log\n",
    "def ln_to_target(p):\n",
    "    tmp_t = []\n",
    "    for t in p:\n",
    "        tmp_t.append(np.exp(t))\n",
    "    return tmp_t\n",
    "\n",
    "# Truncate -ve predictions\n",
    "def truncate_neg_predictions(p):\n",
    "    t = []\n",
    "    for items in p:\n",
    "        if items <0:\n",
    "            t.append(0)\n",
    "        else:\n",
    "            t.append(items)\n",
    "    return t\n",
    "\n",
    "# Scaling of target to square root\n",
    "def scale_var_on_sqrt(var):\n",
    "    t= []\n",
    "    t= var\n",
    "    for index, items in enumerate(t):\n",
    "        t[index] = np.sqrt(t[index])\n",
    "    return t\n",
    "\n",
    "# Rescaling of target from square root\n",
    "def rescale_var_from_sqrt(var):\n",
    "    t= []\n",
    "    t= var\n",
    "    for index, items in enumerate(t):\n",
    "        t[index] = np.square(t[index])\n",
    "    return t\n",
    "\n",
    "# Cross validation computations for different models\n",
    "def cross_validation_computations(clf, folds, x, y):\n",
    "    kf = KFold(len(x), n_folds=folds, shuffle=True)\n",
    "    xval_err = 0\n",
    "    z_error = 0\n",
    "    for train,test in kf:\n",
    "        clf.fit(x[train],y[train])\n",
    "        z_ = y[test]\n",
    "        z_mean = y[test] - np.mean(z_)\n",
    "        pred = clf.predict(x[test])\n",
    "        e = pred-y[test]\n",
    "        xval_err += np.dot(e,e)\n",
    "        z_error += np.dot(e,e)/np.dot(z_mean,z_mean)\n",
    "\n",
    "    rmse_10cv = np.sqrt(xval_err/len(x))\n",
    "    rse_10cv = z_error/folds\n",
    "    r2_10cv = 1-z_error/folds\n",
    "\n",
    "    clf.fit(x,y)\n",
    "    r2_score = cross_val_score(clf, x, y, cv=folds, scoring ='r2')\n",
    "    return rmse_10cv, rse_10cv, r2_10cv, r2_score\n",
    "\n",
    "# Computation over trained data\n",
    "def train_data_computations(clf, x,y):\n",
    "\n",
    "    #Predicting on train data itself\n",
    "    pred = clf.predict(x)\n",
    "\n",
    "    # Errors on train data\n",
    "    err = abs(pred - y)\n",
    "\n",
    "    #calculating mean on target variable\n",
    "    meanr = np.mean(y)\n",
    "    z = y\n",
    "    z = abs(z-meanr)\n",
    "    error = np.dot(err,err)\n",
    "\n",
    "    # Computing RMSE\n",
    "    train_rmse_err = np.sqrt(error/len(pred))\n",
    "\n",
    "    # Computing RSE\n",
    "    rse_error_pred = error / np.dot(z,z)\n",
    "    r2_train_error = 1-rse_error_pred\n",
    "    return meanr, train_rmse_err, rse_error_pred, r2_train_error\n",
    "\n",
    "# Printing features in decreasing order of coefficients : Shows important features in begining\n",
    "def prinitng_imp_features(clf):\n",
    "    \n",
    "    #print ('Regression Coefficients: \\n', clf.coef_)\n",
    "    a = clf.coef_.tolist()\n",
    "    b = divy.feature_names.tolist()\n",
    "    c = list(zip(a,b))\n",
    "    c.sort(key=lambda k: k[0], reverse=True)\n",
    "    for iter_ in c:\n",
    "        print(\"%.3f  %s\" %(iter_[0], iter_[1]))\n",
    "\n",
    "# Fix the kfolds to 10\n",
    "test_kfolds = 10"
   ]
  },
  {
   "cell_type": "markdown",
   "metadata": {},
   "source": [
    "## Models of regression different approach for the project:\n",
    "1. Linear regression\n",
    "2. Ridge regression(different alpha values)\n",
    "3. Lasso regression(different alpha values)\n",
    "4. All three regression models with polynomial features of degree 2 and degree 3.\n",
    "5. cross validation 10 folds on all of them.\n",
    "6. Measures used RMSE, RSE and R2."
   ]
  },
  {
   "cell_type": "markdown",
   "metadata": {},
   "source": [
    "# Baseline for regression"
   ]
  },
  {
   "cell_type": "markdown",
   "metadata": {},
   "source": [
    "### Baseline for Mean Regression"
   ]
  },
  {
   "cell_type": "code",
   "execution_count": 9,
   "metadata": {
    "collapsed": false,
    "scrolled": true
   },
   "outputs": [
    {
     "name": "stdout",
     "output_type": "stream",
     "text": [
      "BaseLine mean Regression stats on train data:\n",
      "MEean of target is : 9.3422459893\n",
      "RMSE over train data is:  12.9547857905\n",
      "Rse is  \t\t:1.000\n",
      "R^2 is  \t\t:0.000\n",
      "R^2 is  \t\t:0.000\n",
      "\n",
      "BaseLine mean Regression stats on 10fold cv:\n",
      "RMSE over train data is:  12.95964577\n",
      "Rse is  \t\t:1.004\n",
      "R^2 is  \t\t:-0.292\n"
     ]
    }
   ],
   "source": [
    "#baseline predictor using dummy regressor\n",
    "def baseline_predict(x, y):\n",
    "    y_mean = np.mean(y)\n",
    "    p_base = np.array([y_mean]*len(y))\n",
    "    err = abs(p_base-y)\n",
    "    error = np.dot(err,err)\n",
    "    train_rmse_err = np.sqrt(error/len(p_base))\n",
    "    return train_rmse_err, p_base\n",
    "\n",
    "dummy = DummyRegressor(strategy = 'mean')\n",
    "dummy.fit(x,y)\n",
    "p_base = dummy.predict(x)\n",
    "\n",
    "meanr, train_rmse_err, rse_error_pred, r2_train_error = train_data_computations(dummy, x,y)\n",
    "\n",
    "#Predicting baseline on train data itself\n",
    "print(\"BaseLine mean Regression stats on train data:\")\n",
    "print(\"MEean of target is :\", meanr)\n",
    "print (\"RMSE over train data is: \", train_rmse_err)\n",
    "print(\"Rse is  \\t\\t:%.3f\"%( rse_error_pred))\n",
    "print(\"R^2 is  \\t\\t:%.3f\"%(1-rse_error_pred))\n",
    "print(\"R^2 is  \\t\\t:%.3f\"%(r2_train_error))\n",
    "\n",
    "print(\"\")\n",
    "\n",
    "rmse_10cv, rse_10cv, r2_10cv, r2_score = cross_validation_computations(dummy, test_kfolds, x, y)\n",
    "print(\"BaseLine mean Regression stats on 10fold cv:\")\n",
    "print (\"RMSE over train data is: \", rmse_10cv)\n",
    "print(\"Rse is  \\t\\t:%.3f\"%( rse_10cv))\n",
    "#print(\"R^2 is  \\t\\t:%.3f\"%(r2_10cv))\n",
    "print(\"R^2 is  \\t\\t:%.3f\"%(np.mean(r2_score)))\n",
    "\n",
    "baseline_mean_RMSE =  train_rmse_err\n",
    "baseline_mean_r2 =  r2_train_error\n",
    "baseline_mean_RMSE_c =  rmse_10cv\n",
    "baseline_mean_r2_c =  np.mean(r2_score)"
   ]
  },
  {
   "cell_type": "markdown",
   "metadata": {},
   "source": [
    "### Baseline for Median Regression"
   ]
  },
  {
   "cell_type": "code",
   "execution_count": 10,
   "metadata": {
    "collapsed": false
   },
   "outputs": [
    {
     "name": "stdout",
     "output_type": "stream",
     "text": [
      "BaseLine median Regression stats on train data:\n",
      "MEean of target is : 9.3422459893\n",
      "RMSE over train data is:  14.4239578156\n",
      "Rse is  \t\t:1.240\n",
      "R^2 is  \t\t:-0.240\n",
      "R^2 is  \t\t:-0.240\n",
      "\n",
      "BaseLine median Regression stats on 10fold cv:\n",
      "RMSE over train data is:  14.4239578156\n",
      "Rse is  \t\t:1.242\n",
      "R^2 is  \t\t:-0.302\n"
     ]
    }
   ],
   "source": [
    "dummy = DummyRegressor(strategy = 'median')\n",
    "dummy.fit(x,y)\n",
    "p_base = dummy.predict(x)\n",
    "\n",
    "meanr, train_rmse_err, rse_error_pred, r2_train_error = train_data_computations(dummy, x,y)\n",
    "\n",
    "#Predicting baseline on train data itself\n",
    "print(\"BaseLine median Regression stats on train data:\")\n",
    "print(\"MEean of target is :\", meanr)\n",
    "print (\"RMSE over train data is: \", train_rmse_err)\n",
    "print(\"Rse is  \\t\\t:%.3f\"%( rse_error_pred))\n",
    "print(\"R^2 is  \\t\\t:%.3f\"%(1-rse_error_pred))\n",
    "print(\"R^2 is  \\t\\t:%.3f\"%(r2_train_error))\n",
    "\n",
    "print(\"\")\n",
    "\n",
    "rmse_10cv, rse_10cv, r2_10cv, r2_score = cross_validation_computations(dummy, test_kfolds, x, y)\n",
    "print(\"BaseLine median Regression stats on 10fold cv:\")\n",
    "print (\"RMSE over train data is: \", rmse_10cv)\n",
    "print(\"Rse is  \\t\\t:%.3f\"%( rse_10cv))\n",
    "#print(\"R^2 is  \\t\\t:%.3f\"%(r2_10cv))\n",
    "print(\"R^2 is  \\t\\t:%.3f\"%(np.mean(r2_score)))\n",
    "baseline_median_RMSE =  train_rmse_err\n",
    "baseline_median_r2 =  r2_train_error\n",
    "baseline_median_RMSE_c =  rmse_10cv\n",
    "baseline_median_r2_c =  np.mean(r2_score)\n"
   ]
  },
  {
   "cell_type": "markdown",
   "metadata": {},
   "source": [
    "# Trying Linear Regression on Linear Features"
   ]
  },
  {
   "cell_type": "code",
   "execution_count": 11,
   "metadata": {
    "collapsed": false
   },
   "outputs": [],
   "source": [
    "#Linear regression object\n",
    "lin_reg = LinearRegression()\n",
    "\n",
    "#Trying to fit Linear regression object on whole data\n",
    "lin_reg.fit(x,y)\n",
    "pred = lin_reg.predict(x)"
   ]
  },
  {
   "cell_type": "code",
   "execution_count": 12,
   "metadata": {
    "collapsed": false,
    "scrolled": true
   },
   "outputs": [
    {
     "name": "stdout",
     "output_type": "stream",
     "text": [
      "Linear Regression stats on train data:\n",
      "MEean of target is : 9.3422459893\n",
      "RMSE over train data is:  9.35382904681\n",
      "\n",
      "Rse is  \t\t:0.521\n",
      "R^2 is  \t\t:0.479\n",
      "R^2 is  \t\t:0.479\n"
     ]
    }
   ],
   "source": [
    "meanr, train_rmse_err, rse_error_pred, r2_train_error = train_data_computations(lin_reg, x,y)\n",
    "\n",
    "#Predicting on train data itself\n",
    "print(\"Linear Regression stats on train data:\")\n",
    "print(\"MEean of target is :\", meanr)\n",
    "print (\"RMSE over train data is: \", train_rmse_err)\n",
    "print(\"\")\n",
    "# bigger R^2 indicate a better fit on data.\n",
    "print(\"Rse is  \\t\\t:%.3f\"%( rse_error_pred))\n",
    "print(\"R^2 is  \\t\\t:%.3f\"%(1-rse_error_pred))\n",
    "print(\"R^2 is  \\t\\t:%.3f\"%(r2_train_error))\n"
   ]
  },
  {
   "cell_type": "code",
   "execution_count": 13,
   "metadata": {
    "collapsed": false
   },
   "outputs": [
    {
     "name": "stdout",
     "output_type": "stream",
     "text": [
      "80742276168943.969  Conditions_Overcast\n",
      "80742276168943.688  Conditions_Mostly_Cloudy\n",
      "80742276168943.562  Conditions_Scattered_Clouds\n",
      "80742276168943.281  Conditions_Light_Drizzle\n",
      "80742276168942.172  Conditions_Clear\n",
      "80742276168942.125  Conditions_Partly_Cloudy\n",
      "80742276168940.312  Conditions_Haze\n",
      "80742276168934.500  Conditions_Unknown\n",
      "79955341482014.219  Event_Snow\n",
      "31955569731395.070  Conditions_Heavy_Rain\n",
      "31955569731388.430  Conditions_Light_Rain\n",
      "31955569731384.578  Conditions_Rain\n",
      "109.918  TemperatureF\n",
      "24.519  Humidity\n",
      "8.927  Wind_SpeedMPH\n",
      "1.270  WindDirDegrees\n",
      "-0.402  Sea_Level_PressureIn\n",
      "-2.021  VisibilityMPH\n",
      "-84.388  Dew_PointF\n",
      "-9868878965589.594  Event_Fog\n",
      "-13828391266825.672  Wind_Direction_Calm\n",
      "-13828391266826.395  Wind_Direction_ENE\n",
      "-13828391266827.617  Wind_Direction_South\n",
      "-13828391266827.633  Wind_Direction_East\n",
      "-13828391266827.680  Wind_Direction_SW\n",
      "-13828391266827.711  Wind_Direction_NE\n",
      "-13828391266828.355  Wind_Direction_Variable\n",
      "-13828391266828.453  Wind_Direction_NNE\n",
      "-13828391266829.156  Wind_Direction_WNW\n",
      "-13828391266829.309  Wind_Direction_SSE\n",
      "-13828391266829.938  Wind_Direction_SSW\n",
      "-13828391266830.148  Wind_Direction_West\n",
      "-13828391266830.379  Wind_Direction_NW\n",
      "-13828391266830.498  Wind_Direction_ESE\n",
      "-13828391266830.561  Wind_Direction_North\n",
      "-13828391266830.586  Wind_Direction_WSW\n",
      "-13828391266830.635  Wind_Direction_SE\n",
      "-13828391266832.172  Wind_Direction_NNW\n",
      "-36831345895214.312  Conditions_Thunderstorm\n",
      "-57361882681640.688  Conditions_Heavy_Thunderstorms_and_Rain\n",
      "-57361882681640.930  Conditions_Light_Thunderstorms_and_Rain\n",
      "-57361882681642.055  Conditions_Thunderstorms_and_Rain\n",
      "-99479993710827.500  Event_Rain_Thunderstorm\n",
      "-99479993710831.578  Event_Rain_Hail_Thunderstorm\n",
      "-120010530497252.812  Event_Thunderstorm\n",
      "-146972997426875.125  Conditions_Fog\n",
      "-146972997426878.781  Conditions_Shallow_Fog\n",
      "-188797446123853.375  Event_Rain_Snow\n",
      "-188797446123855.500  Event_Rain\n",
      "-236797217874479.781  Conditions_Light_Snow\n",
      "-237584152561409.875  Event_Normal\n"
     ]
    }
   ],
   "source": [
    "# high cofficient represents high co-relation with target variable\n",
    "# printing features in sorted order of cofficient\n",
    "prinitng_imp_features(lin_reg)"
   ]
  },
  {
   "cell_type": "code",
   "execution_count": 14,
   "metadata": {
    "collapsed": false
   },
   "outputs": [
    {
     "data": {
      "image/png": "[encoded data removed]",
      "text/plain": [
       "<matplotlib.figure.Figure at 0xab4339cc>"
      ]
     },
     "metadata": {},
     "output_type": "display_data"
    }
   ],
   "source": [
    "# How well we are doing on train data\n",
    "# following figure graph shows the how linear regression fits predicted and actual on train data itself.\n",
    "# It tells us how well it has fit the data itself.\n",
    "\n",
    "%matplotlib inline\n",
    "pl.plot(pred, y,'ro', alpha = 0.15)\n",
    "pl.plot([0,70],[0,70], 'b-')\n",
    "pl.xlabel('predicted data')\n",
    "pl.ylabel('real data')\n",
    "pl.show()\n"
   ]
  },
  {
   "cell_type": "code",
   "execution_count": 15,
   "metadata": {
    "collapsed": false,
    "scrolled": true
   },
   "outputs": [
    {
     "name": "stdout",
     "output_type": "stream",
     "text": [
      "Stats CV10:\n",
      "Method: Simple Linear Regression\n",
      "RMSE on training: 9.3538\n",
      "RMSE on 10-fold CV: 22411740162304.7148\n",
      "R2 on 10-fold CV: -1051104862822063587459072.0000\n"
     ]
    }
   ],
   "source": [
    "# Cv10 on linear regression\n",
    "rmse_10cv, rse_10cv, r2_10cv, r2_score = cross_validation_computations(lin_reg, test_kfolds, x, y)\n",
    "method_name = 'Simple Linear Regression'\n",
    "print(\"Stats CV10:\")\n",
    "print('Method: %s' %method_name)\n",
    "print('RMSE on training: %.4f' %train_rmse_err)\n",
    "print('RMSE on 10-fold CV: %.4f' %rmse_10cv)\n",
    "print('R2 on 10-fold CV: %.4f' %np.mean(r2_score))\n",
    "\n",
    "lin_reg_RMSE =  train_rmse_err\n",
    "lin_reg_r2 =  r2_train_error\n",
    "lin_reg_RMSE_c =  rmse_10cv\n",
    "line_reg_r2_c =  np.mean(r2_score)"
   ]
  },
  {
   "cell_type": "markdown",
   "metadata": {
    "collapsed": true
   },
   "source": [
    "# Now trying Ridge Regression on Linear Features"
   ]
  },
  {
   "cell_type": "code",
   "execution_count": 16,
   "metadata": {
    "collapsed": false
   },
   "outputs": [
    {
     "data": {
      "text/plain": [
       "Ridge(alpha=0.5, copy_X=True, fit_intercept=True, max_iter=None,\n",
       "   normalize=False, random_state=None, solver='auto', tol=0.001)"
      ]
     },
     "execution_count": 16,
     "metadata": {},
     "output_type": "execute_result"
    }
   ],
   "source": [
    "# Creating ridge regression object with a ridge coefficient (alpha) 0.5\n",
    "ridge_reg = Ridge(fit_intercept=True, alpha=0.5)\n",
    "\n",
    "# Training the model using the training set\n",
    "ridge_reg.fit(x,y)"
   ]
  },
  {
   "cell_type": "code",
   "execution_count": 17,
   "metadata": {
    "collapsed": false
   },
   "outputs": [
    {
     "name": "stdout",
     "output_type": "stream",
     "text": [
      "Stats for ridge: over train data\n",
      "MEean of target is : 9.3422459893\n",
      "RMSE over train data is:  9.33870985808\n",
      "Rse is  \t\t:0.520\n",
      "R^2 is  \t\t:0.480\n"
     ]
    }
   ],
   "source": [
    "# Computing RMSE on training data for ridge regression\n",
    "meanr, train_rmse_err, rse_error_pred, r2_train_error = train_data_computations(ridge_reg, x,y)\n",
    "print(\"Stats for ridge: over train data\")\n",
    "method_name = 'Ridge Regression'\n",
    "print(\"MEean of target is :\", meanr)\n",
    "print (\"RMSE over train data is: \", train_rmse_err)\n",
    "\n",
    "# bigger R^2 indicate a better fit on data.\n",
    "print(\"Rse is  \\t\\t:%.3f\"%( rse_error_pred))\n",
    "print(\"R^2 is  \\t\\t:%.3f\"%(1-rse_error_pred))"
   ]
  },
  {
   "cell_type": "code",
   "execution_count": 18,
   "metadata": {
    "collapsed": false
   },
   "outputs": [
    {
     "name": "stdout",
     "output_type": "stream",
     "text": [
      "57.591  TemperatureF\n",
      "8.699  Wind_SpeedMPH\n",
      "4.230  Event_Rain_Snow\n",
      "3.051  Wind_Direction_ENE\n",
      "2.667  Conditions_Heavy_Rain\n",
      "2.196  Conditions_Heavy_Thunderstorms_and_Rain\n",
      "2.184  Conditions_Unknown\n",
      "1.695  Conditions_Light_Rain\n",
      "1.620  Wind_Direction_Calm\n",
      "1.596  Wind_Direction_SW\n",
      "1.516  Wind_Direction_NE\n",
      "1.460  Wind_Direction_South\n",
      "1.359  Event_Normal\n",
      "1.349  Wind_Direction_East\n",
      "1.226  Wind_Direction_NNE\n",
      "1.171  Conditions_Light_Snow\n",
      "1.171  Event_Snow\n",
      "0.786  Conditions_Light_Drizzle\n",
      "0.566  Conditions_Haze\n",
      "0.463  Wind_Direction_Variable\n",
      "0.460  Conditions_Shallow_Fog\n",
      "0.371  Conditions_Scattered_Clouds\n",
      "0.124  Conditions_Overcast\n",
      "-0.140  Conditions_Mostly_Cloudy\n",
      "-0.147  Conditions_Light_Thunderstorms_and_Rain\n",
      "-0.300  Event_Rain\n",
      "-0.314  WindDirDegrees\n",
      "-0.385  Wind_Direction_West\n",
      "-0.389  Event_Fog\n",
      "-0.425  Wind_Direction_WSW\n",
      "-0.431  Conditions_Rain\n",
      "-0.586  Event_Rain_Hail_Thunderstorm\n",
      "-0.687  Wind_Direction_WNW\n",
      "-0.742  Wind_Direction_North\n",
      "-0.849  Conditions_Fog\n",
      "-1.210  Wind_Direction_NNW\n",
      "-1.249  Conditions_Partly_Cloudy\n",
      "-1.269  Wind_Direction_SSW\n",
      "-1.285  Conditions_Clear\n",
      "-1.435  Wind_Direction_NW\n",
      "-1.512  Wind_Direction_SE\n",
      "-1.905  Conditions_Thunderstorm\n",
      "-1.905  Event_Thunderstorm\n",
      "-2.240  Wind_Direction_ESE\n",
      "-2.376  Wind_Direction_SSE\n",
      "-3.580  Event_Rain_Thunderstorm\n",
      "-4.070  VisibilityMPH\n",
      "-4.125  Sea_Level_PressureIn\n",
      "-5.566  Humidity\n",
      "-6.215  Conditions_Thunderstorms_and_Rain\n",
      "-32.153  Dew_PointF\n"
     ]
    }
   ],
   "source": [
    "prinitng_imp_features(ridge_reg)"
   ]
  },
  {
   "cell_type": "markdown",
   "metadata": {},
   "source": [
    "#### Ridge Regression experiment for different value of alpha."
   ]
  },
  {
   "cell_type": "code",
   "execution_count": 19,
   "metadata": {
    "collapsed": false
   },
   "outputs": [
    {
     "name": "stdout",
     "output_type": "stream",
     "text": [
      "Ridge Regression\n",
      "alpha\t RMSE_train\t RMSE_10cv\t R2cv10\n",
      "\n",
      "0.010\t 9.2804\t\t 9.4559\t\t 0.385686\n",
      "0.348\t 9.3222\t\t 9.4555\t\t 0.375085\n",
      "0.685\t 9.3543\t\t 9.5284\t\t 0.369647\n",
      "1.023\t 9.3745\t\t 9.5269\t\t 0.367051\n",
      "1.361\t 9.3882\t\t 9.5103\t\t 0.365774\n",
      "1.699\t 9.3982\t\t 9.5496\t\t 0.365182\n",
      "2.036\t 9.4060\t\t 9.5638\t\t 0.364977\n",
      "2.374\t 9.4124\t\t 9.5565\t\t 0.365003\n",
      "2.712\t 9.4177\t\t 9.5713\t\t 0.365172\n",
      "3.049\t 9.4224\t\t 9.5651\t\t 0.365431\n",
      "3.387\t 9.4266\t\t 9.5642\t\t 0.365746\n",
      "3.725\t 9.4304\t\t 9.5743\t\t 0.366095\n",
      "4.062\t 9.4339\t\t 9.5760\t\t 0.366463\n",
      "4.400\t 9.4372\t\t 9.5812\t\t 0.366840\n",
      "4.738\t 9.4403\t\t 9.5687\t\t 0.367218\n",
      "5.076\t 9.4433\t\t 9.5808\t\t 0.367594\n",
      "5.413\t 9.4462\t\t 9.5652\t\t 0.367962\n",
      "5.751\t 9.4491\t\t 9.6105\t\t 0.368320\n",
      "6.089\t 9.4519\t\t 9.5881\t\t 0.368668\n",
      "6.426\t 9.4546\t\t 9.5890\t\t 0.369002\n",
      "6.764\t 9.4574\t\t 9.6054\t\t 0.369322\n",
      "7.102\t 9.4601\t\t 9.5692\t\t 0.369629\n",
      "7.439\t 9.4627\t\t 9.5896\t\t 0.369920\n",
      "7.777\t 9.4654\t\t 9.6074\t\t 0.370196\n",
      "8.115\t 9.4681\t\t 9.6146\t\t 0.370458\n",
      "8.453\t 9.4708\t\t 9.6108\t\t 0.370704\n",
      "8.790\t 9.4734\t\t 9.5915\t\t 0.370935\n",
      "9.128\t 9.4761\t\t 9.6233\t\t 0.371151\n",
      "9.466\t 9.4788\t\t 9.6025\t\t 0.371353\n",
      "9.803\t 9.4815\t\t 9.5957\t\t 0.371540\n",
      "10.141\t 9.4842\t\t 9.6166\t\t 0.371713\n",
      "10.479\t 9.4869\t\t 9.6230\t\t 0.371871\n",
      "10.816\t 9.4896\t\t 9.6385\t\t 0.372017\n",
      "11.154\t 9.4924\t\t 9.6516\t\t 0.372148\n",
      "11.492\t 9.4951\t\t 9.6376\t\t 0.372267\n",
      "11.830\t 9.4979\t\t 9.6336\t\t 0.372372\n",
      "12.167\t 9.5006\t\t 9.6302\t\t 0.372465\n",
      "12.505\t 9.5034\t\t 9.6248\t\t 0.372545\n",
      "12.843\t 9.5062\t\t 9.6373\t\t 0.372614\n",
      "13.180\t 9.5091\t\t 9.6254\t\t 0.372671\n",
      "13.518\t 9.5119\t\t 9.6432\t\t 0.372716\n",
      "13.856\t 9.5147\t\t 9.6468\t\t 0.372750\n",
      "14.194\t 9.5176\t\t 9.6306\t\t 0.372773\n",
      "14.531\t 9.5204\t\t 9.6427\t\t 0.372786\n",
      "14.869\t 9.5233\t\t 9.6483\t\t 0.372788\n",
      "15.207\t 9.5262\t\t 9.6579\t\t 0.372779\n",
      "15.544\t 9.5291\t\t 9.6589\t\t 0.372761\n",
      "15.882\t 9.5320\t\t 9.6741\t\t 0.372733\n",
      "16.220\t 9.5349\t\t 9.6676\t\t 0.372696\n",
      "16.557\t 9.5379\t\t 9.6857\t\t 0.372650\n",
      "16.895\t 9.5408\t\t 9.6767\t\t 0.372594\n",
      "17.233\t 9.5438\t\t 9.6644\t\t 0.372530\n",
      "17.571\t 9.5467\t\t 9.6941\t\t 0.372457\n",
      "17.908\t 9.5497\t\t 9.6959\t\t 0.372376\n",
      "18.246\t 9.5527\t\t 9.7098\t\t 0.372286\n",
      "18.584\t 9.5557\t\t 9.6904\t\t 0.372189\n",
      "18.921\t 9.5587\t\t 9.6915\t\t 0.372084\n",
      "19.259\t 9.5617\t\t 9.7083\t\t 0.371971\n",
      "19.597\t 9.5647\t\t 9.7170\t\t 0.371850\n",
      "19.934\t 9.5678\t\t 9.6892\t\t 0.371723\n",
      "20.272\t 9.5708\t\t 9.7000\t\t 0.371588\n",
      "20.610\t 9.5738\t\t 9.6992\t\t 0.371447\n",
      "20.948\t 9.5769\t\t 9.7039\t\t 0.371299\n",
      "21.285\t 9.5799\t\t 9.7176\t\t 0.371144\n",
      "21.623\t 9.5830\t\t 9.7141\t\t 0.370983\n",
      "21.961\t 9.5861\t\t 9.7354\t\t 0.370815\n",
      "22.298\t 9.5891\t\t 9.7470\t\t 0.370641\n",
      "22.636\t 9.5922\t\t 9.7102\t\t 0.370462\n",
      "22.974\t 9.5953\t\t 9.7316\t\t 0.370276\n",
      "23.311\t 9.5984\t\t 9.7461\t\t 0.370085\n",
      "23.649\t 9.6015\t\t 9.7347\t\t 0.369888\n",
      "23.987\t 9.6046\t\t 9.7367\t\t 0.369686\n",
      "24.325\t 9.6077\t\t 9.7465\t\t 0.369478\n",
      "24.662\t 9.6108\t\t 9.7330\t\t 0.369265\n",
      "25.000\t 9.6139\t\t 9.7654\t\t 0.369047\n"
     ]
    }
   ],
   "source": [
    "print('Ridge Regression')\n",
    "print('alpha\\t RMSE_train\\t RMSE_10cv\\t R2cv10\\n')\n",
    "\n",
    "#different value of alpha\n",
    "alpha = np.linspace(.01,25,75)\n",
    "rmse_train_ = np.array([])\n",
    "rmse_cv10_ = np.array([])\n",
    "r2_cv10_    = np.array([])\n",
    "rse_cv10_ = np.array([])\n",
    "\n",
    "for a in alpha:\n",
    "    ridge_reg = Ridge(fit_intercept=True, alpha=a)\n",
    "    ridge_reg.fit(x,y)\n",
    "    rmse_cv10, rse_cv10, r2_cv10, r2_scorecv10 = cross_validation_computations(ridge_reg, test_kfolds, x, y)\n",
    "    pred = ridge_reg.predict(x)\n",
    "    err = pred-y\n",
    "    total_error = np.dot(err,err)\n",
    "    rmse_train = np.sqrt(total_error/len(pred))\n",
    "    \n",
    "    rmse_train_ = np.append(rmse_train_, [rmse_train])\n",
    "    rmse_cv10_ = np.append(rmse_cv10_, [rmse_cv10])\n",
    "    rse_cv10_ = np.append(rse_cv10_, [rse_cv10])\n",
    "    r2_cv10_ = np.append(r2_cv10_, [np.mean(r2_scorecv10)])\n",
    "    print('{:.3f}\\t {:.4f}\\t\\t {:.4f}\\t\\t {:.6f}'.format(a,rmse_train,rmse_cv10, np.mean(r2_scorecv10)))"
   ]
  },
  {
   "cell_type": "code",
   "execution_count": 20,
   "metadata": {
    "collapsed": false
   },
   "outputs": [
    {
     "data": {
      "image/png": "[encoded data removed]",
      "text/plain": [
       "<matplotlib.figure.Figure at 0xa9c0be0c>"
      ]
     },
     "metadata": {},
     "output_type": "display_data"
    }
   ],
   "source": [
    "# Graph for 10 fold validation\n",
    "%matplotlib inline\n",
    "pl.plot(alpha, rmse_train_, label='RMSE-over-Train')\n",
    "pl.plot(alpha, rmse_cv10_, label='RMSE_Val_10fold')\n",
    "pl.legend( ('RMSE-Train', 'RMSE_Val_10fold') )\n",
    "pl.ylabel('RMSE Score')\n",
    "pl.xlabel('Alpha values Ridge')\n",
    "pl.show()"
   ]
  },
  {
   "cell_type": "markdown",
   "metadata": {},
   "source": [
    "# Trying Lasso Regression on Linear Features"
   ]
  },
  {
   "cell_type": "code",
   "execution_count": 21,
   "metadata": {
    "collapsed": false
   },
   "outputs": [
    {
     "name": "stdout",
     "output_type": "stream",
     "text": [
      "Stats for lasso: over train data\n",
      "MEean of target is : 9.3422459893\n",
      "RMSE over train data is:  10.1684547211\n",
      "Rse is  \t\t:0.616\n",
      "R^2 is  \t\t:0.384\n"
     ]
    }
   ],
   "source": [
    "# Create lasson regression object with a lso\n",
    "lso_reg = Lasso(alpha=0.5)\n",
    "\n",
    "# Train the model using the training set\n",
    "lso_reg.fit(x,y)\n",
    "\n",
    "# Computing RMSE on training data for lasso regression\n",
    "meanr, train_rmse_err, rse_error_pred, r2_train_error = train_data_computations(lso_reg, x,y)\n",
    "\n",
    "print(\"Stats for lasso: over train data\")\n",
    "method_name = 'Lasso Regression'\n",
    "\n",
    "print(\"MEean of target is :\", meanr)\n",
    "print (\"RMSE over train data is: \", train_rmse_err)\n",
    "# bigger Rse indicate a better fit on data.\n",
    "print(\"Rse is  \\t\\t:%.3f\"%( rse_error_pred))\n",
    "print(\"R^2 is  \\t\\t:%.3f\"%(1-rse_error_pred))"
   ]
  },
  {
   "cell_type": "markdown",
   "metadata": {},
   "source": [
    "### Printing Important Features "
   ]
  },
  {
   "cell_type": "code",
   "execution_count": 22,
   "metadata": {
    "collapsed": false,
    "scrolled": true
   },
   "outputs": [
    {
     "name": "stdout",
     "output_type": "stream",
     "text": [
      "16.538  TemperatureF\n",
      "0.000  Dew_PointF\n",
      "-0.000  Sea_Level_PressureIn\n",
      "0.000  VisibilityMPH\n",
      "0.000  Wind_SpeedMPH\n",
      "-0.000  WindDirDegrees\n",
      "-0.000  Event_Fog\n",
      "0.000  Event_Normal\n",
      "-0.000  Event_Rain\n",
      "-0.000  Event_Rain_Hail_Thunderstorm\n",
      "0.000  Event_Rain_Snow\n",
      "-0.000  Event_Rain_Thunderstorm\n",
      "0.000  Event_Snow\n",
      "-0.000  Event_Thunderstorm\n",
      "-0.000  Conditions_Clear\n",
      "-0.000  Conditions_Fog\n",
      "0.000  Conditions_Haze\n",
      "0.000  Conditions_Heavy_Rain\n",
      "-0.000  Conditions_Heavy_Thunderstorms_and_Rain\n",
      "0.000  Conditions_Light_Drizzle\n",
      "-0.000  Conditions_Light_Rain\n",
      "0.000  Conditions_Light_Snow\n",
      "-0.000  Conditions_Light_Thunderstorms_and_Rain\n",
      "0.000  Conditions_Mostly_Cloudy\n",
      "-0.000  Conditions_Overcast\n",
      "-0.000  Conditions_Partly_Cloudy\n",
      "-0.000  Conditions_Rain\n",
      "0.000  Conditions_Scattered_Clouds\n",
      "-0.000  Conditions_Shallow_Fog\n",
      "-0.000  Conditions_Thunderstorm\n",
      "-0.000  Conditions_Thunderstorms_and_Rain\n",
      "0.000  Conditions_Unknown\n",
      "-0.000  Wind_Direction_Calm\n",
      "0.000  Wind_Direction_ENE\n",
      "-0.000  Wind_Direction_ESE\n",
      "0.000  Wind_Direction_East\n",
      "0.000  Wind_Direction_NE\n",
      "0.000  Wind_Direction_NNE\n",
      "-0.000  Wind_Direction_NNW\n",
      "-0.000  Wind_Direction_NW\n",
      "-0.000  Wind_Direction_North\n",
      "-0.000  Wind_Direction_SE\n",
      "-0.000  Wind_Direction_SSE\n",
      "-0.000  Wind_Direction_SSW\n",
      "0.000  Wind_Direction_SW\n",
      "0.000  Wind_Direction_South\n",
      "0.000  Wind_Direction_Variable\n",
      "0.000  Wind_Direction_WNW\n",
      "0.000  Wind_Direction_WSW\n",
      "-0.000  Wind_Direction_West\n",
      "-15.302  Humidity\n"
     ]
    }
   ],
   "source": [
    "prinitng_imp_features(lso_reg)"
   ]
  },
  {
   "cell_type": "markdown",
   "metadata": {},
   "source": [
    "### Lasso for different value of alpha:"
   ]
  },
  {
   "cell_type": "code",
   "execution_count": 23,
   "metadata": {
    "collapsed": false
   },
   "outputs": [
    {
     "name": "stdout",
     "output_type": "stream",
     "text": [
      "Lasso Regression : \n",
      "alpha        RMSE_train        RMSE_10cv        R2cv10\n",
      "\n",
      "0.010        9.3369        9.4609        0.380562\n",
      "0.348        9.9683        9.9914        0.355203\n",
      "0.685        10.5004        10.5147        0.254876\n",
      "1.023        11.3257        11.3432        0.049879\n",
      "1.361        12.3856        12.3981        -0.181711\n",
      "1.699        12.9548        12.9586        -0.291677\n",
      "2.036        12.9548        12.9618        -0.291677\n",
      "2.374        12.9548        12.9694        -0.291677\n",
      "2.712        12.9548        12.9628        -0.291677\n",
      "3.049        12.9548        12.9721        -0.291677\n",
      "3.387        12.9548        12.9650        -0.291677\n",
      "3.725        12.9548        12.9596        -0.291677\n",
      "4.062        12.9548        12.9595        -0.291677\n",
      "4.400        12.9548        12.9610        -0.291677\n",
      "4.738        12.9548        12.9601        -0.291677\n",
      "5.076        12.9548        12.9631        -0.291677\n",
      "5.413        12.9548        12.9572        -0.291677\n",
      "5.751        12.9548        12.9567        -0.291677\n",
      "6.089        12.9548        12.9607        -0.291677\n",
      "6.426        12.9548        12.9697        -0.291677\n",
      "6.764        12.9548        12.9673        -0.291677\n",
      "7.102        12.9548        12.9598        -0.291677\n",
      "7.439        12.9548        12.9627        -0.291677\n",
      "7.777        12.9548        12.9609        -0.291677\n",
      "8.115        12.9548        12.9592        -0.291677\n",
      "8.453        12.9548        12.9590        -0.291677\n",
      "8.790        12.9548        12.9582        -0.291677\n",
      "9.128        12.9548        12.9615        -0.291677\n",
      "9.466        12.9548        12.9684        -0.291677\n",
      "9.803        12.9548        12.9615        -0.291677\n",
      "10.141        12.9548        12.9592        -0.291677\n",
      "10.479        12.9548        12.9641        -0.291677\n",
      "10.816        12.9548        12.9660        -0.291677\n",
      "11.154        12.9548        12.9604        -0.291677\n",
      "11.492        12.9548        12.9604        -0.291677\n",
      "11.830        12.9548        12.9673        -0.291677\n",
      "12.167        12.9548        12.9605        -0.291677\n",
      "12.505        12.9548        12.9613        -0.291677\n",
      "12.843        12.9548        12.9604        -0.291677\n",
      "13.180        12.9548        12.9647        -0.291677\n",
      "13.518        12.9548        12.9590        -0.291677\n",
      "13.856        12.9548        12.9577        -0.291677\n",
      "14.194        12.9548        12.9586        -0.291677\n",
      "14.531        12.9548        12.9620        -0.291677\n",
      "14.869        12.9548        12.9585        -0.291677\n",
      "15.207        12.9548        12.9581        -0.291677\n",
      "15.544        12.9548        12.9606        -0.291677\n",
      "15.882        12.9548        12.9627        -0.291677\n",
      "16.220        12.9548        12.9607        -0.291677\n",
      "16.557        12.9548        12.9569        -0.291677\n",
      "16.895        12.9548        12.9589        -0.291677\n",
      "17.233        12.9548        12.9610        -0.291677\n",
      "17.571        12.9548        12.9640        -0.291677\n",
      "17.908        12.9548        12.9592        -0.291677\n",
      "18.246        12.9548        12.9563        -0.291677\n",
      "18.584        12.9548        12.9613        -0.291677\n",
      "18.921        12.9548        12.9569        -0.291677\n",
      "19.259        12.9548        12.9679        -0.291677\n",
      "19.597        12.9548        12.9624        -0.291677\n",
      "19.934        12.9548        12.9627        -0.291677\n",
      "20.272        12.9548        12.9655        -0.291677\n",
      "20.610        12.9548        12.9700        -0.291677\n",
      "20.948        12.9548        12.9600        -0.291677\n",
      "21.285        12.9548        12.9579        -0.291677\n",
      "21.623        12.9548        12.9617        -0.291677\n",
      "21.961        12.9548        12.9620        -0.291677\n",
      "22.298        12.9548        12.9594        -0.291677\n",
      "22.636        12.9548        12.9643        -0.291677\n",
      "22.974        12.9548        12.9590        -0.291677\n",
      "23.311        12.9548        12.9573        -0.291677\n",
      "23.649        12.9548        12.9579        -0.291677\n",
      "23.987        12.9548        12.9603        -0.291677\n",
      "24.325        12.9548        12.9587        -0.291677\n",
      "24.662        12.9548        12.9582        -0.291677\n",
      "25.000        12.9548        12.9619        -0.291677\n"
     ]
    }
   ],
   "source": [
    "print('Lasso Regression : ')\n",
    "print('alpha        RMSE_train        RMSE_10cv        R2cv10\\n')\n",
    "\n",
    "#different value of alpha\n",
    "alpha = np.linspace(.01,25,75)\n",
    "rmse_train_ = np.array([])\n",
    "rmse_cv10_ = np.array([])\n",
    "r2_cv10_    = np.array([])\n",
    "rse_cv10_ = np.array([])\n",
    "\n",
    "for a in alpha:\n",
    "    lso_reg = Lasso(fit_intercept=True, alpha=a)\n",
    "    lso_reg.fit(x,y)\n",
    "    rmse_cv10, rse_cv10, r2_cv10, r2_scorecv10 = cross_validation_computations(lso_reg, test_kfolds, x, y)\n",
    "    pred = lso_reg.predict(x)\n",
    "    err = pred-y\n",
    "    total_error = np.dot(err,err)\n",
    "    rmse_train = np.sqrt(total_error/len(pred))\n",
    "    \n",
    "    rmse_train_ = np.append(rmse_train_, [rmse_train])\n",
    "    rmse_cv10_ = np.append(rmse_cv10_, [rmse_cv10])\n",
    "    rse_cv10_ = np.append(rse_cv10_, [rse_cv10])\n",
    "    r2_cv10_ = np.append(r2_cv10_, [np.mean(r2_scorecv10)])\n",
    "    print('{:.3f}        {:.4f}        {:.4f}        {:.6f}'.format(a,rmse_train,rmse_cv10, np.mean(r2_scorecv10)))"
   ]
  },
  {
   "cell_type": "code",
   "execution_count": 24,
   "metadata": {
    "collapsed": false
   },
   "outputs": [
    {
     "data": {
      "image/png": "[encoded data removed]",
      "text/plain": [
       "<matplotlib.figure.Figure at 0xa9c9bf4c>"
      ]
     },
     "metadata": {},
     "output_type": "display_data"
    }
   ],
   "source": [
    "# Graph for 10 fold validation\n",
    "%matplotlib inline\n",
    "pl.plot(alpha, rmse_train_, label='RMSE-over-Train')\n",
    "pl.plot(alpha, rmse_cv10_, label='RMSE_Val_10fold')\n",
    "pl.legend( ('RMSE-Train', 'RMSE_Val_10fold') )\n",
    "pl.ylabel('RMSE Score')\n",
    "pl.xlabel('Alpha values Ridge')\n",
    "pl.show()"
   ]
  },
  {
   "cell_type": "markdown",
   "metadata": {},
   "source": [
    "# Creating Polynomial Regression of Degree 2\n"
   ]
  },
  {
   "cell_type": "code",
   "execution_count": 25,
   "metadata": {
    "collapsed": false
   },
   "outputs": [],
   "source": [
    "poly = PolynomialFeatures(degree=2)\n",
    "x_new = poly.fit_transform(x)\n",
    "x_old = x"
   ]
  },
  {
   "cell_type": "code",
   "execution_count": 26,
   "metadata": {
    "collapsed": false
   },
   "outputs": [
    {
     "name": "stdout",
     "output_type": "stream",
     "text": [
      "Original Data Shape =  (2057, 52)\n",
      "Polynomial Degree 2 Data Shape =  (2057, 1431)\n"
     ]
    }
   ],
   "source": [
    "print(\"Original Data Shape = \", x.shape)\n",
    "print(\"Polynomial Degree 2 Data Shape = \", x_new.shape)"
   ]
  },
  {
   "cell_type": "markdown",
   "metadata": {},
   "source": [
    "# Linear Regression on Polynomial Features of Degree 2"
   ]
  },
  {
   "cell_type": "code",
   "execution_count": 27,
   "metadata": {
    "collapsed": false
   },
   "outputs": [
    {
     "name": "stdout",
     "output_type": "stream",
     "text": [
      "Poly Linear Regression(degree-2) stats on train data:\n",
      "MEean of target is : 9.3422459893\n",
      "RMSE over train data is:  8.26913537187\n",
      "Rse is  \t\t:0.407\n",
      "R^2 is  \t\t:0.593\n"
     ]
    }
   ],
   "source": [
    "#Linear regression object\n",
    "x=x_new\n",
    "\n",
    "lin_reg = LinearRegression()\n",
    "lin_reg.fit(x_new, y)\n",
    "pred = lin_reg.predict(x_new)\n",
    "\n",
    "meanr, train_rmse_err, rse_error_pred, r2_train_error = train_data_computations(lin_reg, x_new,y)\n",
    "#Predicting on train data itself\n",
    "print(\"Poly Linear Regression(degree-2) stats on train data:\")\n",
    "print(\"MEean of target is :\", meanr)\n",
    "print (\"RMSE over train data is: \", train_rmse_err)\n",
    "# bigger R^2 indicate a better fit on data.\n",
    "print(\"Rse is  \\t\\t:%.3f\"%( rse_error_pred))\n",
    "print(\"R^2 is  \\t\\t:%.3f\"%(1-rse_error_pred))"
   ]
  },
  {
   "cell_type": "code",
   "execution_count": 28,
   "metadata": {
    "collapsed": false
   },
   "outputs": [
    {
     "data": {
      "image/png": "[encoded data removed]",
      "text/plain": [
       "<matplotlib.figure.Figure at 0xa9b8118c>"
      ]
     },
     "metadata": {},
     "output_type": "display_data"
    }
   ],
   "source": [
    "# This graph shows the how linear regression fits between both predicted and actual on training data itself.\n",
    "\n",
    "# It tells us how well it has fit the data itself, for sure its not over fitting.\n",
    "# Plot outputs\n",
    "%matplotlib inline\n",
    "pl.plot(pred, y,'ro', alpha = .15)\n",
    "pl.plot([0,70],[0,70], 'b-')\n",
    "pl.xlabel('predicted')\n",
    "pl.ylabel('real')\n",
    "pl.show()"
   ]
  },
  {
   "cell_type": "code",
   "execution_count": 29,
   "metadata": {
    "collapsed": false
   },
   "outputs": [
    {
     "name": "stdout",
     "output_type": "stream",
     "text": [
      "Stats CV10:\n",
      "Method: Polynomial Linear Regression(degree-2)\n",
      "RMSE on training: 8.2691\n",
      "RMSE on 10-fold CV: 16661672646583.8105\n",
      "R^2 on CV=10: -14668985654110130572099584.0000\n"
     ]
    }
   ],
   "source": [
    "# Cross Validation\n",
    "rmse_10cv, rse_10cv, r2_10cv, r2_score = cross_validation_computations(lin_reg, test_kfolds, x, y)\n",
    "method_name = 'Polynomial Linear Regression(degree-2)'\n",
    "print(\"Stats CV10:\")\n",
    "print('Method: %s' %method_name)\n",
    "print('RMSE on training: %.4f' %train_rmse_err)\n",
    "print('RMSE on 10-fold CV: %.4f' %rmse_10cv)\n",
    "#print('RSE on 10-fold CV: %.4f' %rse_10cv)\n",
    "print('R^2 on CV=10: %.4f' %np.mean(r2_score))"
   ]
  },
  {
   "cell_type": "markdown",
   "metadata": {},
   "source": [
    "# Trying Ridge Regression on Polynomial Features Degree 2"
   ]
  },
  {
   "cell_type": "code",
   "execution_count": 30,
   "metadata": {
    "collapsed": false
   },
   "outputs": [
    {
     "name": "stdout",
     "output_type": "stream",
     "text": [
      "Stats for poly ridge(degree-2): over train data\n",
      "MEean of target is : 9.3422459893\n",
      "RMSE is  \t\t:8.688\n",
      "R^2 is  \t\t:0.550\n",
      " \n",
      "Imp Features\n",
      "9.303  Dew_PointF\n",
      "3.171  WindDirDegrees\n",
      "1.477  Wind_Direction_West\n",
      "1.139  Conditions_Overcast\n",
      "0.963  Event_Rain\n",
      "0.656  VisibilityMPH\n",
      "0.614  Wind_Direction_ENE\n",
      "0.596  Event_Fog\n",
      "0.566  Conditions_Shallow_Fog\n",
      "0.552  Wind_Direction_South\n",
      "0.484  Wind_SpeedMPH\n",
      "0.445  Event_Rain_Thunderstorm\n",
      "0.420  Wind_Direction_ESE\n",
      "0.412  Wind_Direction_Calm\n",
      "0.228  Wind_Direction_NW\n",
      "0.210  Wind_Direction_NNW\n",
      "0.162  Conditions_Heavy_Rain\n",
      "0.160  Wind_Direction_WNW\n",
      "0.136  Event_Thunderstorm\n",
      "0.136  Conditions_Light_Thunderstorms_and_Rain\n",
      "0.112  Conditions_Heavy_Thunderstorms_and_Rain\n",
      "0.070  Wind_Direction_North\n",
      "0.000  TemperatureF\n",
      "-0.005  Conditions_Light_Snow\n",
      "-0.018  Conditions_Light_Drizzle\n",
      "-0.092  Conditions_Thunderstorm\n",
      "-0.097  Conditions_Haze\n",
      "-0.125  Conditions_Light_Rain\n",
      "-0.131  Conditions_Fog\n",
      "-0.151  Conditions_Thunderstorms_and_Rain\n",
      "-0.151  Conditions_Clear\n",
      "-0.178  Conditions_Scattered_Clouds\n",
      "-0.189  Event_Normal\n",
      "-0.218  Event_Rain_Snow\n",
      "-0.222  Conditions_Mostly_Cloudy\n",
      "-0.311  Wind_Direction_SW\n",
      "-0.311  Wind_Direction_Variable\n",
      "-0.413  Wind_Direction_WSW\n",
      "-0.448  Conditions_Unknown\n",
      "-0.469  Event_Snow\n",
      "-0.476  Conditions_Rain\n",
      "-0.517  Event_Rain_Hail_Thunderstorm\n",
      "-0.585  Conditions_Partly_Cloudy\n",
      "-0.612  Wind_Direction_NNE\n",
      "-0.663  Wind_Direction_SSW\n",
      "-0.670  Wind_Direction_SE\n",
      "-0.677  Wind_Direction_NE\n",
      "-0.688  Wind_Direction_SSE\n",
      "-0.696  Wind_Direction_East\n",
      "-1.690  Humidity\n",
      "-4.695  Sea_Level_PressureIn\n"
     ]
    }
   ],
   "source": [
    "# Creating ridge regression object with a ridge coefficient 0.5\n",
    "ridge_reg = Ridge(fit_intercept=True, alpha=2.712) # alpha from exp in cell below where diff value of alpha tried\n",
    "\n",
    "# Training the model using the training set\n",
    "ridge_reg.fit(x,y)\n",
    "\n",
    "pred = ridge_reg.predict(x)\n",
    "\n",
    "meanr, train_rmse_err, rse_error_pred, r2_train_error = train_data_computations(ridge_reg, x,y)\n",
    "print(\"Stats for poly ridge(degree-2): over train data\")\n",
    "method_name = 'Ridge Regression'\n",
    "print(\"MEean of target is :\", meanr)\n",
    "# bigger R^2 indicate a better fit on data.\n",
    "print(\"RMSE is  \\t\\t:%.3f\"%( train_rmse_err))\n",
    "print(\"R^2 is  \\t\\t:%.3f\"%(1-rse_error_pred))\n",
    "print(\" \")\n",
    "print(\"Imp Features\")\n",
    "prinitng_imp_features(ridge_reg)"
   ]
  },
  {
   "cell_type": "code",
   "execution_count": null,
   "metadata": {
    "collapsed": false
   },
   "outputs": [
    {
     "name": "stdout",
     "output_type": "stream",
     "text": [
      "Method: Ridge poly Regression(degree-2) CV10\n",
      "RMSE on 10-fold CV: 16661672646583.8105\n",
      "R2 score on 10-fold CV: 0.3321\n"
     ]
    }
   ],
   "source": [
    "rmse_cv10, rse_cv10, r2_cv10, r2_scorecv10 = cross_validation_computations(ridge_reg, test_kfolds, x, y)\n",
    "method_name = 'Ridge poly Regression(degree-2) CV10'\n",
    "print('Method: %s' %method_name)\n",
    "print('RMSE on 10-fold CV: %.4f' %rmse_10cv)\n",
    "print('R2 score on 10-fold CV: %.4f' %np.mean(r2_scorecv10))\n",
    "\n"
   ]
  },
  {
   "cell_type": "markdown",
   "metadata": {},
   "source": [
    "#### Ridge Regression over Different Values of Alpha for Polynomial Degree 2"
   ]
  },
  {
   "cell_type": "code",
   "execution_count": null,
   "metadata": {
    "collapsed": false
   },
   "outputs": [
    {
     "name": "stdout",
     "output_type": "stream",
     "text": [
      "Poly (Degree-2) Ridge Regression\n",
      "alpha\t RMSE_train\t RMSE_10cv\t R2cv10\n",
      "\n",
      "0.010\t 8.3196\t\t 9.8075\t\t 0.082052\n",
      "0.348\t 8.5261\t\t 9.5175\t\t 0.257052\n",
      "0.685\t 8.5702\t\t 9.5412\t\t 0.281987\n",
      "1.023\t 8.5992\t\t 9.4672\t\t 0.296810\n",
      "1.361\t 8.6219\t\t 9.4894\t\t 0.307345\n",
      "1.699\t 8.6411\t\t 9.4547\t\t 0.315463\n",
      "2.036\t 8.6581\t\t 9.4006\t\t 0.322014\n",
      "2.374\t 8.6735\t\t 9.4216\t\t 0.327462\n",
      "2.712\t 8.6876\t\t 9.3873\t\t 0.332088\n",
      "3.049\t 8.7008\t\t 9.3715\t\t 0.336080\n",
      "3.387\t 8.7131\t\t 9.3494\t\t 0.339567\n",
      "3.725\t 8.7247\t\t 9.3909\t\t 0.342644\n",
      "4.062\t 8.7357\t\t 9.4323\t\t 0.345382\n",
      "4.400\t 8.7462\t\t 9.3913\t\t 0.347835\n",
      "4.738\t 8.7562\t\t 9.4184\t\t 0.350045\n",
      "5.076\t 8.7658\t\t 9.3720\t\t 0.352049\n",
      "5.413\t 8.7750\t\t 9.4008\t\t 0.353873\n",
      "5.751\t 8.7839\t\t 9.3919\t\t 0.355541\n",
      "6.089\t 8.7924\t\t 9.3604\t\t 0.357072\n"
     ]
    }
   ],
   "source": [
    "print('Poly (Degree-2) Ridge Regression')\n",
    "print('alpha\\t RMSE_train\\t RMSE_10cv\\t R2cv10\\n')\n",
    "\n",
    "#different value of alpha\n",
    "alpha = np.linspace(.01,25,75)\n",
    "rmse_train_ = np.array([])\n",
    "rmse_cv10_ = np.array([])\n",
    "r2_cv10_    = np.array([])\n",
    "rse_cv10_ = np.array([])\n",
    "\n",
    "for a in alpha:\n",
    "    ridge_reg = Ridge(fit_intercept=True, alpha=a)\n",
    "    ridge_reg.fit(x,y)\n",
    "    rmse_cv10, rse_cv10, r2_cv10, r2_scorecv10 = cross_validation_computations(ridge_reg, test_kfolds, x, y)\n",
    "    pred = ridge_reg.predict(x)\n",
    "    err = pred-y\n",
    "    total_error = np.dot(err,err)\n",
    "    rmse_train = np.sqrt(total_error/len(pred))\n",
    "    \n",
    "    rmse_train_ = np.append(rmse_train_, [rmse_train])\n",
    "    rmse_cv10_ = np.append(rmse_cv10_, [rmse_cv10])\n",
    "    rse_cv10_ = np.append(rse_cv10_, [rse_cv10])\n",
    "    r2_cv10_ = np.append(r2_cv10_, [np.mean(r2_scorecv10)])\n",
    "    print('{:.3f}\\t {:.4f}\\t\\t {:.4f}\\t\\t {:.6f}'.format(a,rmse_train,rmse_cv10, np.mean(r2_scorecv10)))"
   ]
  },
  {
   "cell_type": "code",
   "execution_count": null,
   "metadata": {
    "collapsed": false
   },
   "outputs": [],
   "source": [
    "# Graph for 10 fold validation\n",
    "%matplotlib inline\n",
    "pl.plot(alpha, rmse_train_, label='RMSE-over-Train')\n",
    "pl.plot(alpha, rmse_cv10_, label='RMSE_Val_10fold')\n",
    "pl.legend( ('RMSE-Train', 'RMSE_Val_10fold') )\n",
    "pl.ylabel('RMSE Score')\n",
    "pl.xlabel('Alpha values Ridge')\n",
    "pl.show()"
   ]
  },
  {
   "cell_type": "markdown",
   "metadata": {},
   "source": [
    "# Trying Lasso on Polynomial Features of Degree 2"
   ]
  },
  {
   "cell_type": "code",
   "execution_count": null,
   "metadata": {
    "collapsed": false,
    "scrolled": true
   },
   "outputs": [],
   "source": [
    "# Create Lasso regression object\n",
    "lso = Lasso(alpha = 0.5)\n",
    "\n",
    "# Train the model using the training set\n",
    "lso.fit(x,y)\n",
    "\n",
    "meanr, train_rmse_err, rse_error_pred, r2_train_error = train_data_computations(lso, x,y)\n",
    "\n",
    "# Compute RMSE on training data\n",
    "p = lso.predict(x)\n",
    "err = p-y\n",
    "total_error = np.dot(err,err)\n",
    "rmse_train = np.sqrt(total_error/len(p))\n",
    "\n",
    "# Compute RMSE using 10-fold x-validation\n",
    "kf = KFold(len(x), n_folds=test_kfolds, shuffle=True)\n",
    "xval_err = 0\n",
    "for train,test in kf:\n",
    "    lso.fit(x[train],y[train])\n",
    "    p = lso.predict(x[test])\n",
    "    e = p-y[test]\n",
    "    xval_err += np.dot(e,e)\n",
    "rmse_10cv = np.sqrt(xval_err/len(x))\n",
    "\n",
    "method_name = 'Lasso Regression(degree-2)'\n",
    "print('Method: %s' %method_name)\n",
    "print('RMSE on training: %.4f' %rmse_train)\n",
    "print('RMSE on 10-fold CV: %.4f' %rmse_10cv)\n",
    "print (\"r^2 = : \", r2_train_error)\n",
    "#print ('Regression Coefficients: \\n', lso.coef_)\n",
    "# Important top 10 features in decreasing order of cofficient\n",
    "\n",
    "rmse_cv10, rse_cv10, r2_cv10, r2_scorecv10 = cross_validation_computations(lso, test_kfolds, x, y)\n",
    "\n",
    "print('RMSE on training: %.4f' %rmse_train)\n",
    "print('RMSE on 10-fold CV: %.4f' %rmse_cv10)\n",
    "print('R2 on 10-fold CV: %.4f' %np.mean(r2_scorecv10))"
   ]
  },
  {
   "cell_type": "markdown",
   "metadata": {},
   "source": [
    "### Lasso Regressioin for Different Values of Alpha"
   ]
  },
  {
   "cell_type": "code",
   "execution_count": null,
   "metadata": {
    "collapsed": false
   },
   "outputs": [],
   "source": [
    "print('Lasso Regression : ')\n",
    "print('alpha        RMSE_train        RMSE_10cv        R2cv10\\n')\n",
    "\n",
    "#different value of alpha\n",
    "alpha = np.linspace(.01,25,75)\n",
    "rmse_train_ = np.array([])\n",
    "rmse_cv10_ = np.array([])\n",
    "r2_cv10_    = np.array([])\n",
    "rse_cv10_ = np.array([])\n",
    "\n",
    "for a in alpha:\n",
    "    lso_reg = Lasso(fit_intercept=True, alpha=a)\n",
    "    lso_reg.fit(x,y)\n",
    "    rmse_cv10, rse_cv10, r2_cv10, r2_scorecv10 = cross_validation_computations(lso_reg, test_kfolds, x, y)\n",
    "    pred = lso_reg.predict(x)\n",
    "    err = pred-y\n",
    "    total_error = np.dot(err,err)\n",
    "    rmse_train = np.sqrt(total_error/len(pred))\n",
    "    \n",
    "    rmse_train_ = np.append(rmse_train_, [rmse_train])\n",
    "    rmse_cv10_ = np.append(rmse_cv10_, [rmse_cv10])\n",
    "    rse_cv10_ = np.append(rse_cv10_, [rse_cv10])\n",
    "    r2_cv10_ = np.append(r2_cv10_, [np.mean(r2_scorecv10)])\n",
    "    print('{:.3f}        {:.4f}        {:.4f}        {:.6f}'.format(a,rmse_train,rmse_cv10, np.mean(r2_scorecv10)))"
   ]
  },
  {
   "cell_type": "code",
   "execution_count": null,
   "metadata": {
    "collapsed": false
   },
   "outputs": [],
   "source": [
    "# Graph for 10 fold validation\n",
    "%matplotlib inline\n",
    "pl.plot(alpha, rmse_train_, label='RMSE-over-Train')\n",
    "pl.plot(alpha, rmse_cv10_, label='RMSE_Val_10fold')\n",
    "pl.legend( ('RMSE-Train', 'RMSE_Val_10fold') )\n",
    "pl.ylabel('RMSE Score')\n",
    "pl.xlabel('Alpha values Ridge')\n",
    "pl.show()"
   ]
  }
 ],
 "metadata": {
  "anaconda-cloud": {},
  "kernelspec": {
   "display_name": "Python [Root]",
   "language": "python",
   "name": "Python [Root]"
  },
  "language_info": {
   "codemirror_mode": {
    "name": "ipython",
    "version": 3
   },
   "file_extension": ".py",
   "mimetype": "text/x-python",
   "name": "python",
   "nbconvert_exporter": "python",
   "pygments_lexer": "ipython3",
   "version": "3.5.2"
  }
 },
 "nbformat": 4,
 "nbformat_minor": 0
}
